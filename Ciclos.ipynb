{
 "cells": [
  {
   "cell_type": "markdown",
   "metadata": {},
   "source": [
    "<h2>Siempre me han cosatado los ciclos, pero hoy, será la excepción, hoy yo gano!</h2>"
   ]
  },
  {
   "cell_type": "markdown",
   "metadata": {},
   "source": [
    "<h3>Ciclo for</h3>"
   ]
  },
  {
   "cell_type": "code",
   "execution_count": 5,
   "metadata": {},
   "outputs": [
    {
     "name": "stdout",
     "output_type": "stream",
     "text": [
      "range(0, 7)\n"
     ]
    }
   ],
   "source": [
    "#Para entender los ciclos es importante entender la función range(), esta función retorna una lista ordenada de datos, dependiendo el valor que se le entregue, veamos el ejemplo\n",
    "range(7)"
   ]
  },
  {
   "cell_type": "code",
   "execution_count": 4,
   "metadata": {},
   "outputs": [
    {
     "data": {
      "text/plain": [
       "range(10, 16)"
      ]
     },
     "execution_count": 4,
     "metadata": {},
     "output_type": "execute_result"
    }
   ],
   "source": [
    "#Si la función rango tiene dos entradas, si la primera entrada es menor que la segunda, esta será el valor de partida, y el otro será el valor final\n",
    "range(10, 16)"
   ]
  },
  {
   "cell_type": "code",
   "execution_count": 6,
   "metadata": {},
   "outputs": [
    {
     "name": "stdout",
     "output_type": "stream",
     "text": [
      "['Blanco', 'Blanco', 'Blanco', 'Blanco', 'Blanco']\n"
     ]
    }
   ],
   "source": [
    "#Los ciclos sirven para realizar una tarea una y otra vez\n",
    "cuadrados=[\"red\", \"yellow\", \"green\", \"purple\", \"blue\"]\n",
    "for i in range (0,5):#Ojo esta es la sintaxis del ciclo for y se traduce como; para cada i un rango de 0 a 5, haga cuadros en la ubicación i (0,1,2,3,4)=> Blanco\n",
    "    cuadrados[i]=\"Blanco\"\n",
    "print(cuadrados)"
   ]
  },
  {
   "cell_type": "code",
   "execution_count": 8,
   "metadata": {},
   "outputs": [
    {
     "name": "stdout",
     "output_type": "stream",
     "text": [
      "0\n",
      "1\n",
      "2\n"
     ]
    }
   ],
   "source": [
    "#ejemplo para que sea mas claro\n",
    "for x in range(0,3):\n",
    "    print(x)"
   ]
  },
  {
   "cell_type": "code",
   "execution_count": 9,
   "metadata": {},
   "outputs": [
    {
     "name": "stdout",
     "output_type": "stream",
     "text": [
      "AA\n",
      "BA\n",
      "CA\n"
     ]
    }
   ],
   "source": [
    "#otro ejemplo, ahora en una lista \n",
    "for x in [\"A\", \"B\", \"C\"]:\n",
    "    print(x+\"A\")"
   ]
  },
  {
   "cell_type": "code",
   "execution_count": 15,
   "metadata": {},
   "outputs": [
    {
     "name": "stdout",
     "output_type": "stream",
     "text": [
      "0 Este indice enumera,  roja  este numero muestra cada caracteristica del elemento\n",
      "1 Este indice enumera,  amarilla  este numero muestra cada caracteristica del elemento\n",
      "2 Este indice enumera,  verde  este numero muestra cada caracteristica del elemento\n",
      "3 Este indice enumera,  azul  este numero muestra cada caracteristica del elemento\n"
     ]
    }
   ],
   "source": [
    "# si no tenemos el indice de una lista, por que es muy larga, podemos usar la función enumerate, la cual nos enumera el numero de elementos del dato, generando un indice a cada uno\n",
    "camisetas=[\"roja\", \"amarilla\",\"verde\", \"azul\"]\n",
    "for i,camiseta in enumerate(camisetas):\n",
    "    camiseta\n",
    "    i\n",
    "    print(i, \"Este indice enumera, \", camiseta, \" este numero muestra cada caracteristica del elemento\" )\n",
    "    "
   ]
  },
  {
   "cell_type": "markdown",
   "metadata": {},
   "source": [
    "<h3>Ciclo While</h3>"
   ]
  },
  {
   "cell_type": "code",
   "execution_count": 16,
   "metadata": {},
   "outputs": [
    {
     "name": "stdout",
     "output_type": "stream",
     "text": [
      "es hermano\n",
      "es hermano\n",
      "es hermano\n",
      "es hermano\n"
     ]
    }
   ],
   "source": [
    "#Bueno este ciclo es diferente, solo para cuando la condición deje de ser verdadera.\n",
    "nombres=[\"Nicolas\" ,\"Edgar\" ,\"Kata\" ,\"Diana\" ,\"Camila\"]\n",
    "i=0\n",
    "while(nombres[i]!=\"Camila\"): #Así se escribe el ciclo while, y se lee, mientras nombre en el indice, sea duferente a \"Camila\", imprima: es hermano\n",
    "    print(\"es hermano\")\n",
    "    i=i+1\n"
   ]
  },
  {
   "cell_type": "code",
   "execution_count": null,
   "metadata": {},
   "outputs": [],
   "source": []
  }
 ],
 "metadata": {
  "interpreter": {
   "hash": "04fc3788c23b76e7690e4a8f94f97baaccd63f88ab3a053e1729aa9ad5b22ac6"
  },
  "kernelspec": {
   "display_name": "Python 3.10.9 ('base')",
   "language": "python",
   "name": "python3"
  },
  "language_info": {
   "codemirror_mode": {
    "name": "ipython",
    "version": 3
   },
   "file_extension": ".py",
   "mimetype": "text/x-python",
   "name": "python",
   "nbconvert_exporter": "python",
   "pygments_lexer": "ipython3",
   "version": "3.10.9"
  },
  "orig_nbformat": 4
 },
 "nbformat": 4,
 "nbformat_minor": 2
}
