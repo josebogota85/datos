{
  "nbformat": 4,
  "nbformat_minor": 0,
  "metadata": {
    "colab": {
      "provenance": [],
      "authorship_tag": "ABX9TyPY5D9F28ZdCgTZcDEqdc1m",
      "include_colab_link": true
    },
    "kernelspec": {
      "name": "python3",
      "display_name": "Python 3"
    },
    "language_info": {
      "name": "python"
    }
  },
  "cells": [
    {
      "cell_type": "markdown",
      "metadata": {
        "id": "view-in-github",
        "colab_type": "text"
      },
      "source": [
        "<a href=\"https://colab.research.google.com/github/josebogota85/Ciencia_de_datos/blob/main/IA1.ipynb\" target=\"_parent\"><img src=\"https://colab.research.google.com/assets/colab-badge.svg\" alt=\"Open In Colab\"/></a>"
      ]
    },
    {
      "cell_type": "markdown",
      "source": [
        "Principio"
      ],
      "metadata": {
        "id": "YskdSvLbRfn8"
      }
    },
    {
      "cell_type": "code",
      "execution_count": null,
      "metadata": {
        "colab": {
          "base_uri": "https://localhost:8080/"
        },
        "id": "nvAB-aDtKjnI",
        "outputId": "5501325d-b333-4ca7-e9fb-6a787ebedb04"
      },
      "outputs": [
        {
          "output_type": "stream",
          "name": "stdout",
          "text": [
            "Hola mundo\n"
          ]
        }
      ],
      "source": [
        "print(\"Hola mundo\")"
      ]
    },
    {
      "cell_type": "code",
      "source": [
        "\"Hola mundo\""
      ],
      "metadata": {
        "colab": {
          "base_uri": "https://localhost:8080/",
          "height": 35
        },
        "id": "E1Kyu_IFLxSL",
        "outputId": "110ce982-5759-4480-bb89-0c8a9a30ed07"
      },
      "execution_count": null,
      "outputs": [
        {
          "output_type": "execute_result",
          "data": {
            "text/plain": [
              "'Hola mundo'"
            ],
            "application/vnd.google.colaboratory.intrinsic+json": {
              "type": "string"
            }
          },
          "metadata": {},
          "execution_count": 3
        }
      ]
    },
    {
      "cell_type": "code",
      "source": [
        "#Con el signo de numeral puedo hacer comentarios\n",
        "print(\"Jose Luis Rincón Ortiz\")"
      ],
      "metadata": {
        "colab": {
          "base_uri": "https://localhost:8080/"
        },
        "id": "MRZxw6QnMAl2",
        "outputId": "98f4eddb-e62e-4cb5-fb45-67828188a3b9"
      },
      "execution_count": null,
      "outputs": [
        {
          "output_type": "stream",
          "name": "stdout",
          "text": [
            "Jose Luis Rincón Ortiz\n"
          ]
        }
      ]
    },
    {
      "cell_type": "markdown",
      "source": [
        "Tipos de datos"
      ],
      "metadata": {
        "id": "RHhwF0KtRn9Z"
      }
    },
    {
      "cell_type": "code",
      "source": [
        "#integer  o en español entero, sin valores decimales\n",
        "type(80)"
      ],
      "metadata": {
        "colab": {
          "base_uri": "https://localhost:8080/"
        },
        "id": "pGZy6EoqMbEE",
        "outputId": "648fb78c-070d-49bb-d52e-9a8e87f30211"
      },
      "execution_count": null,
      "outputs": [
        {
          "output_type": "execute_result",
          "data": {
            "text/plain": [
              "int"
            ]
          },
          "metadata": {},
          "execution_count": 5
        }
      ]
    },
    {
      "cell_type": "code",
      "source": [
        "#float valores decimales\n",
        "type(3.14)"
      ],
      "metadata": {
        "colab": {
          "base_uri": "https://localhost:8080/"
        },
        "id": "XHyDQfk6VvJT",
        "outputId": "0dab99a8-6f86-44d3-e4be-f7dd48dfdc38"
      },
      "execution_count": null,
      "outputs": [
        {
          "output_type": "execute_result",
          "data": {
            "text/plain": [
              "float"
            ]
          },
          "metadata": {},
          "execution_count": 6
        }
      ]
    },
    {
      "cell_type": "code",
      "source": [
        "# Valores booleanos\n",
        "type(True)"
      ],
      "metadata": {
        "colab": {
          "base_uri": "https://localhost:8080/"
        },
        "id": "XR0yKtQYV2BT",
        "outputId": "b2f01e4f-f004-48eb-e234-5e9f2adc31b6"
      },
      "execution_count": null,
      "outputs": [
        {
          "output_type": "execute_result",
          "data": {
            "text/plain": [
              "bool"
            ]
          },
          "metadata": {},
          "execution_count": 7
        }
      ]
    },
    {
      "cell_type": "code",
      "source": [
        "#Cadenas de texto todo lo que esta dentro de comillas\n",
        "type(\"Que hubo\")"
      ],
      "metadata": {
        "colab": {
          "base_uri": "https://localhost:8080/"
        },
        "id": "_OiSquc3WGGF",
        "outputId": "0efa20df-a278-4268-b9f0-fb488bea5935"
      },
      "execution_count": null,
      "outputs": [
        {
          "output_type": "execute_result",
          "data": {
            "text/plain": [
              "str"
            ]
          },
          "metadata": {},
          "execution_count": 8
        }
      ]
    },
    {
      "cell_type": "markdown",
      "source": [
        "Metodos de para las cadenas, son funciones que se activan poniendo un punto despues de una cadena de texto, o a un objeto\n",
        "\n"
      ],
      "metadata": {
        "id": "C19uUygQXssi"
      }
    },
    {
      "cell_type": "code",
      "source": [
        "print(\"hola, me agrada saludarte\".upper())#Letras a mayúsculas\n",
        "print(\"HOLA, me agrada despedirte\".lower())#Letras en minúsculas\n",
        "print(\"este es un título\".title())#Para poner en formato de título\n"
      ],
      "metadata": {
        "colab": {
          "base_uri": "https://localhost:8080/"
        },
        "id": "pS26IMVPWWsI",
        "outputId": "59e2c6fb-1d2e-433a-b5c3-f2a64d4be5ec"
      },
      "execution_count": null,
      "outputs": [
        {
          "output_type": "stream",
          "name": "stdout",
          "text": [
            "HOLA, ME AGRADA SALUDARTE\n",
            "hola, me agrada despedirte\n",
            "Este Es Un Título\n"
          ]
        }
      ]
    },
    {
      "cell_type": "code",
      "source": [
        "#el método count me sirve papra contar cuantas veces esta una letra en una línea de texto\n",
        "\"Hola vida como has estado el día de hoy\".count('o')#Así podemos contar las \"o\" dentro de una cadena de texto, lo que esta dentro de parentesis es un argumento"
      ],
      "metadata": {
        "colab": {
          "base_uri": "https://localhost:8080/"
        },
        "id": "9Io_bWuIZrnz",
        "outputId": "170b1bcd-cc0f-4d9f-f31f-ccd525a62c4e"
      },
      "execution_count": null,
      "outputs": [
        {
          "output_type": "execute_result",
          "data": {
            "text/plain": [
              "5"
            ]
          },
          "metadata": {},
          "execution_count": 10
        }
      ]
    },
    {
      "cell_type": "code",
      "source": [
        "\"Hola vida como has estado el día de hoy\".replace(\"o\",\"O\")#El primer argumento es el que voy a buscar y el segundo por el que voy a reemplazar"
      ],
      "metadata": {
        "colab": {
          "base_uri": "https://localhost:8080/",
          "height": 35
        },
        "id": "dqt-uD_rc5Q3",
        "outputId": "c04df090-82b6-40c4-d3a1-23f65f0b2571"
      },
      "execution_count": null,
      "outputs": [
        {
          "output_type": "execute_result",
          "data": {
            "text/plain": [
              "'HOla vida cOmO has estadO el día de hOy'"
            ],
            "application/vnd.google.colaboratory.intrinsic+json": {
              "type": "string"
            }
          },
          "metadata": {},
          "execution_count": 1
        }
      ]
    },
    {
      "cell_type": "markdown",
      "source": [
        "Variables"
      ],
      "metadata": {
        "id": "z0XzUBiqd6CL"
      }
    },
    {
      "cell_type": "code",
      "source": [
        "#Una variable contiendeo un valor que esta asociada a una variable, se unsa el nombre y luego el signo igual\n",
        "mensaje_1=\"Ahora que sé python nadie puede igualarme\""
      ],
      "metadata": {
        "id": "V2WHtC83d07y"
      },
      "execution_count": null,
      "outputs": []
    },
    {
      "cell_type": "code",
      "source": [
        "#Si ejecuto la variable se muestra automaticamente\n",
        "mensaje_1"
      ],
      "metadata": {
        "colab": {
          "base_uri": "https://localhost:8080/",
          "height": 35
        },
        "id": "d04PeoOgetNW",
        "outputId": "9dd4cc2f-86de-493f-e55c-3449ac09da94"
      },
      "execution_count": null,
      "outputs": [
        {
          "output_type": "execute_result",
          "data": {
            "text/plain": [
              "'Ahora que sé python nadie puede igualar'"
            ],
            "application/vnd.google.colaboratory.intrinsic+json": {
              "type": "string"
            }
          },
          "metadata": {},
          "execution_count": 8
        }
      ]
    },
    {
      "cell_type": "code",
      "source": [
        "#Puedo usar las comillas simples y dobles conjuntas\n",
        "\"Hola aprendo python 'Jose es el mejor'\""
      ],
      "metadata": {
        "colab": {
          "base_uri": "https://localhost:8080/",
          "height": 35
        },
        "id": "dRR0qGs2excf",
        "outputId": "b46b814d-d792-4abf-99ab-e10c6f817a1a"
      },
      "execution_count": null,
      "outputs": [
        {
          "output_type": "execute_result",
          "data": {
            "text/plain": [
              "\"Hola aprendo python 'Jose es el mejor'\""
            ],
            "application/vnd.google.colaboratory.intrinsic+json": {
              "type": "string"
            }
          },
          "metadata": {},
          "execution_count": 9
        }
      ]
    },
    {
      "cell_type": "code",
      "source": [
        "mensaje_2=\"me estoy dando cuenta que Python es la locura \""
      ],
      "metadata": {
        "id": "mCs_xflJe_tK"
      },
      "execution_count": null,
      "outputs": []
    },
    {
      "cell_type": "code",
      "source": [
        "#Concatenar variables es posible, se usa el simbolo de +\n",
        "mensaje_1 + mensaje_2"
      ],
      "metadata": {
        "colab": {
          "base_uri": "https://localhost:8080/",
          "height": 35
        },
        "id": "Nafos0cpfRCu",
        "outputId": "a97a34c8-34e6-4ae9-c9b2-0fafbd972117"
      },
      "execution_count": null,
      "outputs": [
        {
          "output_type": "execute_result",
          "data": {
            "text/plain": [
              "'Ahora que sé python nadie puede igualarme estoy dando cuenta que Python es la locura '"
            ],
            "application/vnd.google.colaboratory.intrinsic+json": {
              "type": "string"
            }
          },
          "metadata": {},
          "execution_count": 15
        }
      ]
    },
    {
      "cell_type": "code",
      "source": [
        "espacio=\" \""
      ],
      "metadata": {
        "id": "9rGIYu1_fmUB"
      },
      "execution_count": null,
      "outputs": []
    },
    {
      "cell_type": "code",
      "source": [
        "mensaje_1 +espacio + mensaje_2"
      ],
      "metadata": {
        "colab": {
          "base_uri": "https://localhost:8080/",
          "height": 35
        },
        "id": "Z-UmBLUSfYoh",
        "outputId": "bc23dfcf-1f62-4659-b8a3-da9a41c37599"
      },
      "execution_count": null,
      "outputs": [
        {
          "output_type": "execute_result",
          "data": {
            "text/plain": [
              "'Ahora que sé python nadie puede igualar me estoy dando cuenta que Python es la locura '"
            ],
            "application/vnd.google.colaboratory.intrinsic+json": {
              "type": "string"
            }
          },
          "metadata": {},
          "execution_count": 16
        }
      ]
    },
    {
      "cell_type": "code",
      "source": [
        "#La cadena de texto f es una súper cadena, me permite concatenar texto y variables directamente\n",
        "f'{mensaje_1 + \" \" + mensaje_2}'"
      ],
      "metadata": {
        "colab": {
          "base_uri": "https://localhost:8080/",
          "height": 35
        },
        "id": "kOhFciXPf4HR",
        "outputId": "25085147-0fe2-4a42-bf27-5d3b46c16479"
      },
      "execution_count": null,
      "outputs": [
        {
          "output_type": "execute_result",
          "data": {
            "text/plain": [
              "'Ahora que sé python nadie puede igualar me estoy dando cuenta que Python es la locura '"
            ],
            "application/vnd.google.colaboratory.intrinsic+json": {
              "type": "string"
            }
          },
          "metadata": {},
          "execution_count": 18
        }
      ]
    },
    {
      "cell_type": "markdown",
      "source": [
        "Listas, es el tipo de datos más usados en IA, estos tipos de datos son ordenados y mutables, para definir una lista lo debemos hacer en usando corchetes cuadrados, ejemplo nombre de la lista, signo igual y corchetes"
      ],
      "metadata": {
        "id": "orI55Vezgm7v"
      }
    },
    {
      "cell_type": "code",
      "source": [
        "paises=[\"Colombia\", \"Ecuador\", \"México\", \"China\", \"Francia\", \"PAraguay\"]\n",
        "paises"
      ],
      "metadata": {
        "colab": {
          "base_uri": "https://localhost:8080/"
        },
        "id": "SJ4kgYoxgTbl",
        "outputId": "abb7aa15-18f1-4cf0-fb23-cbd844e4cb23"
      },
      "execution_count": null,
      "outputs": [
        {
          "output_type": "execute_result",
          "data": {
            "text/plain": [
              "['Colombia', 'Ecuador', 'México', 'China', 'Francia', 'PAraguay']"
            ]
          },
          "metadata": {},
          "execution_count": 27
        }
      ]
    },
    {
      "cell_type": "markdown",
      "source": [
        "En una lista pdoemos indexzar el contenido, el index es la posición de cada lista, para acceder a un elemento, debemos usar el corchete y la posición"
      ],
      "metadata": {
        "id": "_t5iCBzyi-e8"
      }
    },
    {
      "cell_type": "code",
      "source": [
        " # de esta manera voy a llamar el primer elemento de la lista\n",
        " paises[0]"
      ],
      "metadata": {
        "colab": {
          "base_uri": "https://localhost:8080/",
          "height": 35
        },
        "id": "SK1JQ3bEhjmj",
        "outputId": "ac0462d0-4077-4de3-ac0e-31671f8cba43"
      },
      "execution_count": null,
      "outputs": [
        {
          "output_type": "execute_result",
          "data": {
            "text/plain": [
              "'Colombia'"
            ],
            "application/vnd.google.colaboratory.intrinsic+json": {
              "type": "string"
            }
          },
          "metadata": {},
          "execution_count": 28
        }
      ]
    },
    {
      "cell_type": "code",
      "source": [
        "#Para oibetner el segundo elemento hago lo siguiente\n",
        "paises[1]"
      ],
      "metadata": {
        "colab": {
          "base_uri": "https://localhost:8080/",
          "height": 35
        },
        "id": "Vi-40q_GjQsU",
        "outputId": "40e990de-3c34-4142-faf1-a8268bd5aa55"
      },
      "execution_count": null,
      "outputs": [
        {
          "output_type": "execute_result",
          "data": {
            "text/plain": [
              "'Ecuador'"
            ],
            "application/vnd.google.colaboratory.intrinsic+json": {
              "type": "string"
            }
          },
          "metadata": {},
          "execution_count": 29
        }
      ]
    },
    {
      "cell_type": "code",
      "source": [
        "#PAra obtener el último elemento de la lista, podemos usar números negativos\n",
        "paises[-1]"
      ],
      "metadata": {
        "colab": {
          "base_uri": "https://localhost:8080/",
          "height": 35
        },
        "id": "ix3o2j5Yjb0P",
        "outputId": "11732a46-da10-4f44-91ca-a7000635b482"
      },
      "execution_count": null,
      "outputs": [
        {
          "output_type": "execute_result",
          "data": {
            "text/plain": [
              "'PAraguay'"
            ],
            "application/vnd.google.colaboratory.intrinsic+json": {
              "type": "string"
            }
          },
          "metadata": {},
          "execution_count": 30
        }
      ]
    },
    {
      "cell_type": "code",
      "source": [
        "#PAra cortar la lista podemos usar el slicing, no sirve para cortar la lista, para hacer el slicing podemos utilizarlo de la siguiente manera\n",
        "#nombre de la lista[inicio:fin], recuerda que el último número es exluyente\n",
        "paises"
      ],
      "metadata": {
        "colab": {
          "base_uri": "https://localhost:8080/"
        },
        "id": "oeK8CR2djlWh",
        "outputId": "8967eba1-be34-4194-a505-70e8020b8bc5"
      },
      "execution_count": null,
      "outputs": [
        {
          "output_type": "execute_result",
          "data": {
            "text/plain": [
              "['Colombia', 'Ecuador', 'México', 'China', 'Francia', 'PAraguay']"
            ]
          },
          "metadata": {},
          "execution_count": 31
        }
      ]
    },
    {
      "cell_type": "code",
      "source": [
        "paises[1:5]"
      ],
      "metadata": {
        "colab": {
          "base_uri": "https://localhost:8080/"
        },
        "id": "8dykhU2okIw6",
        "outputId": "bd4c642a-8178-46e7-db1c-be220878a3e8"
      },
      "execution_count": null,
      "outputs": [
        {
          "output_type": "execute_result",
          "data": {
            "text/plain": [
              "['Ecuador', 'México', 'China', 'Francia']"
            ]
          },
          "metadata": {},
          "execution_count": 33
        }
      ]
    },
    {
      "cell_type": "code",
      "source": [
        "#Si queremos cortar la lista desde un comienzo definido y un final indefinido, lo hacemos de la siguiente manera\n",
        "paises[1:]"
      ],
      "metadata": {
        "colab": {
          "base_uri": "https://localhost:8080/"
        },
        "id": "xP5tAfJgkRc-",
        "outputId": "98d40146-4aee-48fb-f41a-a9bea0b19e4d"
      },
      "execution_count": null,
      "outputs": [
        {
          "output_type": "execute_result",
          "data": {
            "text/plain": [
              "['Ecuador', 'México', 'China', 'Francia', 'PAraguay']"
            ]
          },
          "metadata": {},
          "execution_count": 34
        }
      ]
    },
    {
      "cell_type": "code",
      "source": [
        "#Tambien lo puedo hacer al reves, puedo tener un número final definido y el primer elelmento de la lista, para hacer este corte lo hacemos de la siguiente manera\n",
        "paises[:3]"
      ],
      "metadata": {
        "colab": {
          "base_uri": "https://localhost:8080/"
        },
        "id": "FvOOdo3Gk3Jm",
        "outputId": "7ba2474f-f021-4189-d689-d382629d9d71"
      },
      "execution_count": null,
      "outputs": [
        {
          "output_type": "execute_result",
          "data": {
            "text/plain": [
              "['Colombia', 'Ecuador', 'México']"
            ]
          },
          "metadata": {},
          "execution_count": 35
        }
      ]
    },
    {
      "cell_type": "code",
      "source": [
        "#Podemos agrgar elemento a la lista, usamos el elmento append\n",
        "paises.append(\"CANADA\")"
      ],
      "metadata": {
        "id": "5Orlj8OOl2vi"
      },
      "execution_count": null,
      "outputs": []
    },
    {
      "cell_type": "code",
      "source": [
        "paises"
      ],
      "metadata": {
        "colab": {
          "base_uri": "https://localhost:8080/"
        },
        "id": "wIZVgXY1mG2g",
        "outputId": "36e8986d-e2ce-448c-c452-d849fe5df180"
      },
      "execution_count": null,
      "outputs": [
        {
          "output_type": "execute_result",
          "data": {
            "text/plain": [
              "['Colombia', 'Ecuador', 'México', 'China', 'Francia', 'PAraguay', 'CANADA']"
            ]
          },
          "metadata": {},
          "execution_count": 37
        }
      ]
    },
    {
      "cell_type": "code",
      "source": [
        "#Podemos añadir usando el metodo insert, este metodo nos sirve para especificar en que lugar vamos a agregar el elemento\n",
        "paises.insert(0, \"Venezuela\")\n",
        "paises"
      ],
      "metadata": {
        "colab": {
          "base_uri": "https://localhost:8080/"
        },
        "id": "fO8tx4jimHww",
        "outputId": "76876c5f-905b-42b6-ed41-31bfcc0a1124"
      },
      "execution_count": null,
      "outputs": [
        {
          "output_type": "execute_result",
          "data": {
            "text/plain": [
              "['Venezuela',\n",
              " 'Colombia',\n",
              " 'Ecuador',\n",
              " 'México',\n",
              " 'China',\n",
              " 'Francia',\n",
              " 'PAraguay',\n",
              " 'CANADA']"
            ]
          },
          "metadata": {},
          "execution_count": 38
        }
      ]
    },
    {
      "cell_type": "code",
      "source": [
        "#Tambien se pueden concatenar dos listas\n",
        "paises_1=[\"Italia\", \"Grecia\", \"Alemania\", \"Inglaterra\"]"
      ],
      "metadata": {
        "id": "zBNSEWPrmWt0"
      },
      "execution_count": null,
      "outputs": []
    },
    {
      "cell_type": "code",
      "source": [
        "paises + paises_1"
      ],
      "metadata": {
        "colab": {
          "base_uri": "https://localhost:8080/"
        },
        "id": "nx1euqdgmwGB",
        "outputId": "bc6b474a-5234-4bf2-a378-3ea37547c1a5"
      },
      "execution_count": null,
      "outputs": [
        {
          "output_type": "execute_result",
          "data": {
            "text/plain": [
              "['Venezuela',\n",
              " 'Colombia',\n",
              " 'Ecuador',\n",
              " 'México',\n",
              " 'China',\n",
              " 'Francia',\n",
              " 'PAraguay',\n",
              " 'CANADA',\n",
              " 'Italia',\n",
              " 'Grecia',\n",
              " 'Alemania',\n",
              " 'Inglaterra']"
            ]
          },
          "metadata": {},
          "execution_count": 41
        }
      ]
    },
    {
      "cell_type": "code",
      "source": [
        "#También se puede crear listas dentro de listas para crear una matriz, de la siguiente manera\n",
        "lista_completa=[paises, paises_1]"
      ],
      "metadata": {
        "id": "Xjk7ykzSm1WK"
      },
      "execution_count": null,
      "outputs": []
    },
    {
      "cell_type": "code",
      "source": [
        "lista_completa"
      ],
      "metadata": {
        "colab": {
          "base_uri": "https://localhost:8080/"
        },
        "id": "2Sxti3pNnAuG",
        "outputId": "26e1780d-2aa9-4b71-8014-da3cf9a6f39f"
      },
      "execution_count": null,
      "outputs": [
        {
          "output_type": "execute_result",
          "data": {
            "text/plain": [
              "[['Venezuela',\n",
              "  'Colombia',\n",
              "  'Ecuador',\n",
              "  'México',\n",
              "  'China',\n",
              "  'Francia',\n",
              "  'PAraguay',\n",
              "  'CANADA'],\n",
              " ['Italia', 'Grecia', 'Alemania', 'Inglaterra']]"
            ]
          },
          "metadata": {},
          "execution_count": 43
        }
      ]
    },
    {
      "cell_type": "code",
      "source": [
        "#Eliminar uyn elemento de una lista metodo remove\n",
        "paises.remove(\"CANADA\")"
      ],
      "metadata": {
        "id": "3TBnhIn9nDho"
      },
      "execution_count": null,
      "outputs": []
    },
    {
      "cell_type": "code",
      "source": [
        "paises"
      ],
      "metadata": {
        "colab": {
          "base_uri": "https://localhost:8080/"
        },
        "id": "aOLaxyq_naHj",
        "outputId": "8779a6c1-6d6b-421e-88e4-ccb8ae4bd585"
      },
      "execution_count": null,
      "outputs": [
        {
          "output_type": "execute_result",
          "data": {
            "text/plain": [
              "['Venezuela', 'Colombia', 'Ecuador', 'México', 'China', 'Francia', 'PAraguay']"
            ]
          },
          "metadata": {},
          "execution_count": 45
        }
      ]
    },
    {
      "cell_type": "code",
      "source": [
        "#A diferencia del metodo remove el metodo pop solo acepta posiciones, tiene la ventaja de que me muestra lo que se elimino\n",
        "paises.pop(0)"
      ],
      "metadata": {
        "colab": {
          "base_uri": "https://localhost:8080/",
          "height": 35
        },
        "id": "6GkPMiG0nauk",
        "outputId": "2e9d05c5-0f0c-4461-8911-67f87f5333f3"
      },
      "execution_count": null,
      "outputs": [
        {
          "output_type": "execute_result",
          "data": {
            "text/plain": [
              "'Venezuela'"
            ],
            "application/vnd.google.colaboratory.intrinsic+json": {
              "type": "string"
            }
          },
          "metadata": {},
          "execution_count": 47
        }
      ]
    },
    {
      "cell_type": "code",
      "source": [
        "paises"
      ],
      "metadata": {
        "colab": {
          "base_uri": "https://localhost:8080/"
        },
        "id": "V5TPj2cynki3",
        "outputId": "db68020f-ee21-47dd-8a5a-46ac88c7f163"
      },
      "execution_count": null,
      "outputs": [
        {
          "output_type": "execute_result",
          "data": {
            "text/plain": [
              "['Colombia', 'Ecuador', 'México', 'China', 'Francia', 'PAraguay']"
            ]
          },
          "metadata": {},
          "execution_count": 48
        }
      ]
    },
    {
      "cell_type": "code",
      "source": [
        "#Eliminar elementos con del\n",
        "del paises[2]"
      ],
      "metadata": {
        "id": "yMqolmOonu8R"
      },
      "execution_count": null,
      "outputs": []
    },
    {
      "cell_type": "code",
      "source": [
        "paises"
      ],
      "metadata": {
        "colab": {
          "base_uri": "https://localhost:8080/"
        },
        "id": "yhg_d0uxoCoL",
        "outputId": "6f68be04-6468-484b-a9c4-24a483a45b5d"
      },
      "execution_count": null,
      "outputs": [
        {
          "output_type": "execute_result",
          "data": {
            "text/plain": [
              "['Colombia', 'Ecuador', 'China', 'Francia', 'PAraguay']"
            ]
          },
          "metadata": {},
          "execution_count": 50
        }
      ]
    },
    {
      "cell_type": "code",
      "source": [
        "#Ordenar listas con valores numéricos usamos el metodo sort\n",
        "digitos=[5,6,8,45,6,9]"
      ],
      "metadata": {
        "id": "c5vt4dPnoDlO"
      },
      "execution_count": null,
      "outputs": []
    },
    {
      "cell_type": "code",
      "source": [
        "digitos.sort()\n",
        "digitos"
      ],
      "metadata": {
        "colab": {
          "base_uri": "https://localhost:8080/"
        },
        "id": "Yecz_FTUoNLg",
        "outputId": "d3da8a07-a857-4ef3-ca1d-b6dc4f8a1ee0"
      },
      "execution_count": null,
      "outputs": [
        {
          "output_type": "execute_result",
          "data": {
            "text/plain": [
              "[5, 6, 6, 8, 9, 45]"
            ]
          },
          "metadata": {},
          "execution_count": 54
        }
      ]
    },
    {
      "cell_type": "code",
      "source": [
        "#PAra ordenar los números de mayor a menor podemos usar los argumentos dentro del metodo sort\n",
        "digitos.sort(reverse=True)\n",
        "digitos"
      ],
      "metadata": {
        "colab": {
          "base_uri": "https://localhost:8080/"
        },
        "id": "zR-f-H_XoTN8",
        "outputId": "7c1d6aa3-bb7f-4f26-90f9-53dacf556691"
      },
      "execution_count": null,
      "outputs": [
        {
          "output_type": "execute_result",
          "data": {
            "text/plain": [
              "[45, 9, 8, 6, 6, 5]"
            ]
          },
          "metadata": {},
          "execution_count": 56
        }
      ]
    },
    {
      "cell_type": "markdown",
      "source": [
        "Copiar una lista"
      ],
      "metadata": {
        "id": "ev4AmBzdos9Z"
      }
    },
    {
      "cell_type": "code",
      "source": [
        "# para copiar una lista por ejemplo si alguien quiere usar nuestros datos pero no queremos que los modifique le hacemos una copia\n",
        "paises_copia=paises.copy()\n",
        "paises_copia"
      ],
      "metadata": {
        "colab": {
          "base_uri": "https://localhost:8080/"
        },
        "id": "J_RN5YAbohNF",
        "outputId": "11896110-9b89-4875-a960-62a158c23560"
      },
      "execution_count": null,
      "outputs": [
        {
          "output_type": "execute_result",
          "data": {
            "text/plain": [
              "['Colombia', 'Ecuador', 'China', 'Francia', 'PAraguay']"
            ]
          },
          "metadata": {},
          "execution_count": 57
        }
      ]
    },
    {
      "cell_type": "code",
      "source": [
        "#Podemos hacer copias haciendo un slicing\n",
        "paises_copia1=paises[:]\n",
        "paises_copia1"
      ],
      "metadata": {
        "colab": {
          "base_uri": "https://localhost:8080/"
        },
        "id": "Hm3H_73no6w1",
        "outputId": "ca19de12-3ae0-4ccc-9258-2c19e4077a3e"
      },
      "execution_count": null,
      "outputs": [
        {
          "output_type": "execute_result",
          "data": {
            "text/plain": [
              "['Colombia', 'Ecuador', 'China', 'Francia', 'PAraguay']"
            ]
          },
          "metadata": {},
          "execution_count": 58
        }
      ]
    },
    {
      "cell_type": "markdown",
      "source": [
        "Diccionarios: son tipos de datos que tienen una clave y un valor son, tipos de datos mutables, se declaran usando {}, las claves no pueden ser duplicadas"
      ],
      "metadata": {
        "id": "JRbWMMrHpjJO"
      }
    },
    {
      "cell_type": "code",
      "source": [
        "#De esta manera se accede a la información del diccioanrio\n",
        "diccionario={\"casa\":\"home\", \"rojo\":\"red\", \"libro\":\"book\", \"esfero\":\"pen\"}\n",
        "diccionario"
      ],
      "metadata": {
        "colab": {
          "base_uri": "https://localhost:8080/"
        },
        "id": "PrUzNlECpT46",
        "outputId": "56bd6f17-15fd-4acc-98fc-df32eaa20468"
      },
      "execution_count": null,
      "outputs": [
        {
          "output_type": "execute_result",
          "data": {
            "text/plain": [
              "{'casa': 'home', 'rojo': 'red', 'libro': 'book', 'esfero': 'pen'}"
            ]
          },
          "metadata": {},
          "execution_count": 60
        }
      ]
    },
    {
      "cell_type": "code",
      "source": [
        "#PAra mostrar valores\n",
        "diccionario[\"casa\"]"
      ],
      "metadata": {
        "colab": {
          "base_uri": "https://localhost:8080/",
          "height": 35
        },
        "id": "65PTq6LLqJje",
        "outputId": "b6ed5997-45c8-4a48-ceb7-175b91e2ae28"
      },
      "execution_count": null,
      "outputs": [
        {
          "output_type": "execute_result",
          "data": {
            "text/plain": [
              "'home'"
            ],
            "application/vnd.google.colaboratory.intrinsic+json": {
              "type": "string"
            }
          },
          "metadata": {},
          "execution_count": 61
        }
      ]
    },
    {
      "cell_type": "code",
      "source": [
        "#PAra devolver todas las claves del diccioanrio uso el metodo keys\n",
        "diccionario.keys()"
      ],
      "metadata": {
        "colab": {
          "base_uri": "https://localhost:8080/"
        },
        "id": "XTTK8u9UrfoU",
        "outputId": "41e4316f-2aca-4b2f-8e31-66a8dacbae14"
      },
      "execution_count": null,
      "outputs": [
        {
          "output_type": "execute_result",
          "data": {
            "text/plain": [
              "dict_keys(['casa', 'rojo', 'libro', 'esfero'])"
            ]
          },
          "metadata": {},
          "execution_count": 62
        }
      ]
    },
    {
      "cell_type": "code",
      "source": [
        "#Para devolver los valores del diccionario uso el metodo values\n",
        "diccionario.values()"
      ],
      "metadata": {
        "colab": {
          "base_uri": "https://localhost:8080/"
        },
        "id": "gri5vbUfrq7v",
        "outputId": "b548ccba-a787-42e9-b325-b1555fc1f255"
      },
      "execution_count": null,
      "outputs": [
        {
          "output_type": "execute_result",
          "data": {
            "text/plain": [
              "dict_values(['home', 'red', 'book', 'pen'])"
            ]
          },
          "metadata": {},
          "execution_count": 63
        }
      ]
    },
    {
      "cell_type": "code",
      "source": [
        "#PAra devolver el nombre y el valor de los didccionario uso el metodo items\n",
        "diccionario.items()"
      ],
      "metadata": {
        "colab": {
          "base_uri": "https://localhost:8080/"
        },
        "id": "DHYdrUNdr0In",
        "outputId": "12c7e953-cd1a-4c02-d24c-ae9d61554130"
      },
      "execution_count": null,
      "outputs": [
        {
          "output_type": "execute_result",
          "data": {
            "text/plain": [
              "dict_items([('casa', 'home'), ('rojo', 'red'), ('libro', 'book'), ('esfero', 'pen')])"
            ]
          },
          "metadata": {},
          "execution_count": 64
        }
      ]
    },
    {
      "cell_type": "code",
      "source": [
        "#PAra agregar elementos a un diccionario se hace de la siguiente manera\n",
        "diccionario[\"azul\"]=\"blue\""
      ],
      "metadata": {
        "id": "2shXdZ1jr9-y"
      },
      "execution_count": null,
      "outputs": []
    },
    {
      "cell_type": "code",
      "source": [
        "diccionario"
      ],
      "metadata": {
        "colab": {
          "base_uri": "https://localhost:8080/"
        },
        "id": "tsNhuyimsOKw",
        "outputId": "2257677a-f9ec-4a98-dbd6-f6699efc653d"
      },
      "execution_count": null,
      "outputs": [
        {
          "output_type": "execute_result",
          "data": {
            "text/plain": [
              "{'casa': 'home',\n",
              " 'rojo': 'red',\n",
              " 'libro': 'book',\n",
              " 'esfero': 'pen',\n",
              " 'azul': 'blue'}"
            ]
          },
          "metadata": {},
          "execution_count": 66
        }
      ]
    },
    {
      "cell_type": "code",
      "source": [
        "#PAra actualizar los datos también puedo el metodo update\n",
        "diccionario.update({\"negro\":\"black\"})"
      ],
      "metadata": {
        "id": "CfJpLgw-sPAZ"
      },
      "execution_count": null,
      "outputs": []
    },
    {
      "cell_type": "code",
      "source": [
        "diccionario"
      ],
      "metadata": {
        "colab": {
          "base_uri": "https://localhost:8080/"
        },
        "id": "2Skl5RMNst9-",
        "outputId": "78d338d8-76be-432b-9ce2-a7bf0a68dc69"
      },
      "execution_count": null,
      "outputs": [
        {
          "output_type": "execute_result",
          "data": {
            "text/plain": [
              "{'casa': 'home',\n",
              " 'rojo': 'red',\n",
              " 'libro': 'book',\n",
              " 'esfero': 'pen',\n",
              " 'azul': 'blue',\n",
              " 'negro': 'black'}"
            ]
          },
          "metadata": {},
          "execution_count": 68
        }
      ]
    },
    {
      "cell_type": "code",
      "source": [
        "#También puedo agregar una lista en\n",
        "diccionario.update({\"gris\":\"grey\", \"probomebres\":[\"he\", \"she\", \"it\"]})"
      ],
      "metadata": {
        "id": "aejbcoF8suzo"
      },
      "execution_count": null,
      "outputs": []
    },
    {
      "cell_type": "code",
      "source": [
        "diccionario"
      ],
      "metadata": {
        "colab": {
          "base_uri": "https://localhost:8080/"
        },
        "id": "YPnqhMDttScG",
        "outputId": "1ac6d2e7-a093-42fe-dc79-0f138d4c3b65"
      },
      "execution_count": null,
      "outputs": [
        {
          "output_type": "execute_result",
          "data": {
            "text/plain": [
              "{'casa': 'home',\n",
              " 'rojo': 'red',\n",
              " 'libro': 'book',\n",
              " 'esfero': 'pen',\n",
              " 'azul': 'blue',\n",
              " 'negro': 'black',\n",
              " 'gris': 'grey',\n",
              " 'probomebres': ['he', 'she', 'it']}"
            ]
          },
          "metadata": {},
          "execution_count": 73
        }
      ]
    },
    {
      "cell_type": "code",
      "source": [
        "#Para eliminar los datos puedo usar los metodos de las listas\n",
        "diccionario.pop(\"gris\")\n",
        "diccionario"
      ],
      "metadata": {
        "colab": {
          "base_uri": "https://localhost:8080/"
        },
        "id": "6rw2gJFhtnW_",
        "outputId": "306a7898-f9cc-41ae-9e41-3a6f8dead2d7"
      },
      "execution_count": null,
      "outputs": [
        {
          "output_type": "execute_result",
          "data": {
            "text/plain": [
              "{'casa': 'home',\n",
              " 'rojo': 'red',\n",
              " 'libro': 'book',\n",
              " 'esfero': 'pen',\n",
              " 'azul': 'blue',\n",
              " 'negro': 'black',\n",
              " 'probomebres': ['he', 'she', 'it']}"
            ]
          },
          "metadata": {},
          "execution_count": 74
        }
      ]
    },
    {
      "cell_type": "code",
      "source": [
        "del diccionario [\"probomebres\"]\n",
        "diccionario"
      ],
      "metadata": {
        "colab": {
          "base_uri": "https://localhost:8080/"
        },
        "id": "mrZ4xh0ut9PB",
        "outputId": "7ee5926b-acca-4af4-969e-822669705cee"
      },
      "execution_count": null,
      "outputs": [
        {
          "output_type": "execute_result",
          "data": {
            "text/plain": [
              "{'casa': 'home',\n",
              " 'rojo': 'red',\n",
              " 'libro': 'book',\n",
              " 'esfero': 'pen',\n",
              " 'azul': 'blue',\n",
              " 'negro': 'black'}"
            ]
          },
          "metadata": {},
          "execution_count": 75
        }
      ]
    },
    {
      "cell_type": "markdown",
      "source": [
        "\n",
        "En Python, los operadores lógicos se utilizan para combinar condiciones y devolver True o False. Son esenciales cuando se desea tomar decisiones más complejas en los programas, ya que nos permiten manejar múltiples comparaciones al mismo tiempo. Vamos a ver los tres operadores lógicos principales: AND, OR, y NOT.\n",
        "\n",
        "Operador AND (and):\n",
        "\n",
        "El operador AND devuelve True solo si ambas condiciones son verdaderas.\n",
        "Ejemplo: 5 > 3 and 5 < 10 es True porque ambas comparaciones son verdaderas.\n",
        "Operador OR (or):\n",
        "\n",
        "El operador OR devuelve True si al menos una de las condiciones es verdadera.\n",
        "Ejemplo: 5 > 3 or 5 > 10 es True porque la primera comparación es verdadera, aunque la segunda no lo sea.\n",
        "Operador NOT (not):\n",
        "\n",
        "El operador NOT invierte el valor de una condición. Si la condición es True, el NOT la convierte en False, y viceversa.\n",
        "Ejemplo: not 5 > 3 es False porque 5 > 3 es True, pero el NOT invierte el resultado."
      ],
      "metadata": {
        "id": "nufQp1_Nzu5Z"
      }
    },
    {
      "cell_type": "code",
      "source": [
        "# ¡Hola estudiantes! Vamos a aprender los operadores lógicos en Python.\n",
        "# Estos operadores nos permiten combinar condiciones y nos devuelven True o False.\n",
        "\n",
        "# 1. Operador AND (y lógico)\n",
        "# Devuelve True solo si ambas condiciones son verdaderas.\n",
        "print(\"Operador AND (y lógico):\")\n",
        "print(\"¿5 es mayor que 3 y 5 es menor que 10?\", 5 > 3 and 5 < 10)  # True\n",
        "print(\"¿5 es mayor que 3 y 5 es mayor que 10?\", 5 > 3 and 5 > 10)  # False\n",
        "print()\n",
        "\n",
        "# 2. Operador OR (o lógico)\n",
        "# Devuelve True si al menos una de las condiciones es verdadera.\n",
        "print(\"Operador OR (o lógico):\")\n",
        "print(\"¿5 es mayor que 3 o 5 es mayor que 10?\", 5 > 3 or 5 > 10)  # True\n",
        "print(\"¿5 es menor que 3 o 5 es mayor que 10?\", 5 < 3 or 5 > 10)  # False\n",
        "print()\n",
        "\n",
        "# 3. Operador NOT (negación lógica)\n",
        "# Invierte el valor de una condición. Si es True, lo convierte en False, y viceversa.\n",
        "print(\"Operador NOT (negación lógica):\")\n",
        "print(\"¿No es cierto que 5 es mayor que 3?\", not 5 > 3)  # False, porque 5 > 3 es True, pero el NOT lo invierte\n",
        "print(\"¿No es cierto que 5 es menor que 3?\", not 5 < 3)  # True, porque 5 < 3 es False, y el NOT lo invierte a True\n",
        "print()\n",
        "\n",
        "# Ejemplo final: uso combinado de operadores lógicos\n",
        "print(\"Ejemplo con operadores lógicos combinados:\")\n",
        "x = 5\n",
        "print(\"¿x es mayor que 3 y x es igual a 5?\", x > 3 and x == 5)  # True\n",
        "print(\"¿x es menor que 3 o x es igual a 5?\", x < 3 or x == 5)  # True\n",
        "print(\"¿No es cierto que x es igual a 5?\", not x == 5)  # False\n"
      ],
      "metadata": {
        "colab": {
          "base_uri": "https://localhost:8080/"
        },
        "id": "Tneed41TzqUo",
        "outputId": "dde134d2-32d9-4afd-aa18-370fefbb56f1"
      },
      "execution_count": null,
      "outputs": [
        {
          "output_type": "stream",
          "name": "stdout",
          "text": [
            "Operador AND (y lógico):\n",
            "¿5 es mayor que 3 y 5 es menor que 10? True\n",
            "¿5 es mayor que 3 y 5 es mayor que 10? False\n",
            "\n",
            "Operador OR (o lógico):\n",
            "¿5 es mayor que 3 o 5 es mayor que 10? True\n",
            "¿5 es menor que 3 o 5 es mayor que 10? False\n",
            "\n",
            "Operador NOT (negación lógica):\n",
            "¿No es cierto que 5 es mayor que 3? False\n",
            "¿No es cierto que 5 es menor que 3? True\n",
            "\n",
            "Ejemplo con operadores lógicos combinados:\n",
            "¿x es mayor que 3 y x es igual a 5? True\n",
            "¿x es menor que 3 o x es igual a 5? True\n",
            "¿No es cierto que x es igual a 5? False\n"
          ]
        }
      ]
    },
    {
      "cell_type": "markdown",
      "source": [
        "\n",
        "En Python, las operaciones aritméticas son las más básicas y esenciales para realizar cálculos. Estos operadores nos permiten sumar, restar, multiplicar, dividir, y más. Vamos a revisar cada uno:\n",
        "\n",
        "Suma (+):\n",
        "\n",
        "La suma agrega dos valores. Ejemplo: 5 + 3 = 8.\n",
        "Resta (-):\n",
        "\n",
        "La resta sustrae un valor del otro. Ejemplo: 5 - 3 = 2.\n",
        "Multiplicación (*):\n",
        "\n",
        "Multiplica dos valores. Ejemplo: 5 * 3 = 15.\n",
        "División (/):\n",
        "\n",
        "Divide un número por otro. En Python, la división siempre devuelve un número decimal (flotante). Ejemplo: 10 / 2 = 5.0.\n",
        "División entera (//):\n",
        "\n",
        "La división entera devuelve solo la parte entera de la división, descartando la parte decimal. Ejemplo: 10 // 3 = 3.\n",
        "Módulo (%):\n",
        "\n",
        "El operador módulo devuelve el resto de una división. Es útil cuando queremos saber si un número es divisible por otro o cuál es el residuo. Ejemplo: 10 % 3 = 1 (10 dividido entre 3 da 3, y sobra 1).\n",
        "Exponenciación (**):\n",
        "\n",
        "Eleva un número a la potencia de otro. Ejemplo: 2 ** 3 = 8 (2 elevado a la potencia de 3 es 8)."
      ],
      "metadata": {
        "id": "rKoUVcETzIHQ"
      }
    },
    {
      "cell_type": "code",
      "source": [
        "# ¡Hola estudiantes! Vamos a aprender las operaciones aritméticas básicas en Python.\n",
        "\n",
        "# 1. Suma (+)\n",
        "# La suma agrega dos números.\n",
        "print(\"Operación + (suma):\")\n",
        "print(\"5 + 3 =\", 5 + 3)  # El resultado es 8\n",
        "print()  # Salto de línea\n",
        "\n",
        "# 2. Resta (-)\n",
        "# La resta sustrae un número del otro.\n",
        "print(\"Operación - (resta):\")\n",
        "print(\"5 - 3 =\", 5 - 3)  # El resultado es 2\n",
        "print()\n",
        "\n",
        "# 3. Multiplicación (*)\n",
        "# La multiplicación multiplica dos números.\n",
        "print(\"Operación * (multiplicación):\")\n",
        "print(\"5 * 3 =\", 5 * 3)  # El resultado es 15\n",
        "print()\n",
        "\n",
        "# 4. División (/)\n",
        "# La división divide un número por otro.\n",
        "print(\"Operación / (división):\")\n",
        "print(\"10 / 2 =\", 10 / 2)  # El resultado es 5.0 (resultado en flotante)\n",
        "print()\n",
        "\n",
        "# 5. División entera (//)\n",
        "# La división entera devuelve solo la parte entera de la división (sin decimales).\n",
        "print(\"Operación // (división entera):\")\n",
        "print(\"10 // 3 =\", 10 // 3)  # El resultado es 3, porque ignora la parte decimal\n",
        "print()\n",
        "\n",
        "# 6. Módulo (%)\n",
        "# El operador módulo devuelve el resto de una división.\n",
        "print(\"Operación % (módulo):\")\n",
        "print(\"10 % 3 =\", 10 % 3)  # El resultado es 1, porque 10 dividido entre 3 da 3, sobrando 1\n",
        "print()\n",
        "\n",
        "# 7. Exponenciación (**)\n",
        "# La exponenciación eleva un número a la potencia de otro.\n",
        "print(\"Operación ** (exponenciación):\")\n",
        "print(\"2 ** 3 =\", 2 ** 3)  # El resultado es 8 (2 elevado a la potencia de 3)\n",
        "print()\n",
        "\n",
        "# Ejemplo final: uso combinado de operaciones\n",
        "print(\"Ejemplo con varias operaciones combinadas:\")\n",
        "resultado = (5 + 3) * 2 - 4 / 2\n",
        "print(\"Resultado de (5 + 3) * 2 - 4 / 2 =\", resultado)\n"
      ],
      "metadata": {
        "colab": {
          "base_uri": "https://localhost:8080/"
        },
        "id": "gFKNje2Jy7-t",
        "outputId": "967acf2f-d2ce-40e9-c6b9-60c5f5a7e914"
      },
      "execution_count": null,
      "outputs": [
        {
          "output_type": "stream",
          "name": "stdout",
          "text": [
            "Operación + (suma):\n",
            "5 + 3 = 8\n",
            "\n",
            "Operación - (resta):\n",
            "5 - 3 = 2\n",
            "\n",
            "Operación * (multiplicación):\n",
            "5 * 3 = 15\n",
            "\n",
            "Operación / (división):\n",
            "10 / 2 = 5.0\n",
            "\n",
            "Operación // (división entera):\n",
            "10 // 3 = 3\n",
            "\n",
            "Operación % (módulo):\n",
            "10 % 3 = 1\n",
            "\n",
            "Operación ** (exponenciación):\n",
            "2 ** 3 = 8\n",
            "\n",
            "Ejemplo con varias operaciones combinadas:\n",
            "Resultado de (5 + 3) * 2 - 4 / 2 = 14.0\n"
          ]
        }
      ]
    },
    {
      "cell_type": "markdown",
      "source": [
        "Introducción a los Operadores de Comparación en Python\n",
        "En Python, los operadores de comparación nos permiten comparar dos valores y obtener un resultado booleano, es decir, True (verdadero) o False (falso). Estos operadores son esenciales cuando queremos tomar decisiones en nuestros programas, ya que nos permiten evaluar condiciones, como por ejemplo si un número es mayor que otro o si dos valores son iguales.\n",
        "\n",
        "**A continuación, veremos los operadores de comparación más comunes: igual a (==), diferente de (!=), mayor que (>), menor que (<), mayor o igual que (>=) y menor o igual que (<=). Entender su funcionamiento es clave para poder crear programas que tomen decisiones inteligentes. **\n",
        "\n"
      ],
      "metadata": {
        "id": "3K4pjxQ3yaFV"
      }
    },
    {
      "cell_type": "code",
      "source": [
        "# ¡Hola estudiantes! Vamos a aprender los operadores de comparación en Python.\n",
        "# Estos operadores nos permiten comparar valores, y el resultado será siempre True o False.\n",
        "\n",
        "# 1. Igual que (==)\n",
        "# Compara si dos valores son iguales.\n",
        "print(\"Operador == (igual que):\")\n",
        "print(\"¿5 es igual a 5?\", 5 == 5)  # True, porque 5 es igual a 5\n",
        "print(\"¿5 es igual a 3?\", 5 == 3)  # False, porque 5 no es igual a 3\n",
        "print()  # Salto de línea\n",
        "\n",
        "# 2. Diferente de (!=)\n",
        "# Verifica si dos valores NO son iguales.\n",
        "print(\"Operador != (diferente de):\")\n",
        "print(\"¿5 es diferente de 3?\", 5 != 3)  # True, porque 5 no es igual a 3\n",
        "print(\"¿5 es diferente de 5?\", 5 != 5)  # False, porque 5 es igual a 5\n",
        "print()\n",
        "\n",
        "# 3. Mayor que (>)\n",
        "# Verifica si el valor a la izquierda es mayor que el de la derecha.\n",
        "print(\"Operador > (mayor que):\")\n",
        "print(\"¿5 es mayor que 3?\", 5 > 3)  # True, porque 5 es mayor que 3\n",
        "print(\"¿3 es mayor que 5?\", 3 > 5)  # False, porque 3 no es mayor que 5\n",
        "print()\n",
        "\n",
        "# 4. Menor que (<)\n",
        "# Verifica si el valor a la izquierda es menor que el de la derecha.\n",
        "print(\"Operador < (menor que):\")\n",
        "print(\"¿3 es menor que 5?\", 3 < 5)  # True, porque 3 es menor que 5\n",
        "print(\"¿5 es menor que 3?\", 5 < 3)  # False, porque 5 no es menor que 3\n",
        "print()\n",
        "\n",
        "# 5. Mayor o igual que (>=)\n",
        "# Verifica si el valor a la izquierda es mayor o igual que el de la derecha.\n",
        "print(\"Operador >= (mayor o igual que):\")\n",
        "print(\"¿5 es mayor o igual que 5?\", 5 >= 5)  # True, porque 5 es igual a 5\n",
        "print(\"¿5 es mayor o igual que 3?\", 5 >= 3)  # True, porque 5 es mayor que 3\n",
        "print(\"¿3 es mayor o igual que 5?\", 3 >= 5)  # False, porque 3 no es mayor ni igual a 5\n",
        "print()\n",
        "\n",
        "# 6. Menor o igual que (<=)\n",
        "# Verifica si el valor a la izquierda es menor o igual que el de la derecha.\n",
        "print(\"Operador <= (menor o igual que):\")\n",
        "print(\"¿5 es menor o igual que 5?\", 5 <= 5)  # True, porque 5 es igual a 5\n",
        "print(\"¿3 es menor o igual que 5?\", 3 <= 5)  # True, porque 3 es menor que 5\n",
        "print(\"¿5 es menor o igual que 3?\", 5 <= 3)  # False, porque 5 no es menor ni igual a 3\n",
        "print()\n",
        "\n",
        "# Ejemplo final: comparaciones múltiples\n",
        "print(\"Ejemplo con comparaciones múltiples:\")\n",
        "x = 10\n",
        "y = 20\n",
        "z = 10\n",
        "print(\"¿x == z y x < y?\", x == z and x < y)  # True, porque x es igual a z y x es menor que y\n",
        "print(\"¿x == y o x > y?\", x == y or x > y)  # False, porque x no es igual a y ni mayor que y\n"
      ],
      "metadata": {
        "colab": {
          "base_uri": "https://localhost:8080/"
        },
        "id": "5zxT5IkWyDMg",
        "outputId": "27621a36-34ca-4958-cca3-da64add1df2c"
      },
      "execution_count": null,
      "outputs": [
        {
          "output_type": "stream",
          "name": "stdout",
          "text": [
            "Operador == (igual que):\n",
            "¿5 es igual a 5? True\n",
            "¿5 es igual a 3? False\n",
            "\n",
            "Operador != (diferente de):\n",
            "¿5 es diferente de 3? True\n",
            "¿5 es diferente de 5? False\n",
            "\n",
            "Operador > (mayor que):\n",
            "¿5 es mayor que 3? True\n",
            "¿3 es mayor que 5? False\n",
            "\n",
            "Operador < (menor que):\n",
            "¿3 es menor que 5? True\n",
            "¿5 es menor que 3? False\n",
            "\n",
            "Operador >= (mayor o igual que):\n",
            "¿5 es mayor o igual que 5? True\n",
            "¿5 es mayor o igual que 3? True\n",
            "¿3 es mayor o igual que 5? False\n",
            "\n",
            "Operador <= (menor o igual que):\n",
            "¿5 es menor o igual que 5? True\n",
            "¿3 es menor o igual que 5? True\n",
            "¿5 es menor o igual que 3? False\n",
            "\n",
            "Ejemplo con comparaciones múltiples:\n",
            "¿x == z y x < y? True\n",
            "¿x == y o x > y? False\n"
          ]
        }
      ]
    },
    {
      "cell_type": "markdown",
      "source": [
        "Condicionales, primero usarmos If, que quiere decir que si se cumple la condición se ejecuta el codigo, luego del bloque If, sigue el bloque Elif, que quiere decir que si la condicion anterior no se cumplio, entonces se cumplira esta, por ultimo esta el bloque else, si ninguna condicion se cumple entonces se ejecutará este codigo"
      ],
      "metadata": {
        "id": "nI_ZMHZqui5V"
      }
    },
    {
      "cell_type": "code",
      "source": [
        "if <condcion>:\n",
        "  <ejecute>\n",
        "\n",
        "\n",
        "else:\n",
        "  <ejecute>"
      ],
      "metadata": {
        "id": "50pFRiXtuipF"
      },
      "execution_count": null,
      "outputs": []
    },
    {
      "cell_type": "code",
      "source": [
        "#ejemplo de condicionales\n",
        "edad=10\n",
        "if edad >= 18:\n",
        "  print(\"Eres mayor de edad\")\n",
        "else:\n",
        "  print(\"Eres un niño\")"
      ],
      "metadata": {
        "colab": {
          "base_uri": "https://localhost:8080/"
        },
        "id": "xGww4j5Zuc-B",
        "outputId": "0e412929-cac4-4b31-ea02-207e3ec8d2d7"
      },
      "execution_count": null,
      "outputs": [
        {
          "output_type": "stream",
          "name": "stdout",
          "text": [
            "Eres un niño\n"
          ]
        }
      ]
    },
    {
      "cell_type": "code",
      "source": [
        "#ejemplo de condicionales\n",
        "edad=13\n",
        "if edad >= 18:\n",
        "  print(\"Eres mayor de edad\")\n",
        "elif edad >= 13:\n",
        "  print(\"Eres un adolescente\")\n",
        "else:\n",
        "  print(\"Eres un niño\")"
      ],
      "metadata": {
        "colab": {
          "base_uri": "https://localhost:8080/"
        },
        "id": "3c2AXv5vvrxG",
        "outputId": "ceeea688-fc08-4fad-8d1a-64b0f89393c8"
      },
      "execution_count": null,
      "outputs": [
        {
          "output_type": "stream",
          "name": "stdout",
          "text": [
            "Eres un adolescente\n"
          ]
        }
      ]
    },
    {
      "cell_type": "code",
      "source": [
        "#Hagamos un ejemplo más completo usemos la lista que ya habiamos estado usando\n",
        "paises\n"
      ],
      "metadata": {
        "colab": {
          "base_uri": "https://localhost:8080/"
        },
        "id": "1D0UH6_mv-YB",
        "outputId": "a42f2f51-a5b3-428a-b390-6591b41abfe5"
      },
      "execution_count": null,
      "outputs": [
        {
          "output_type": "execute_result",
          "data": {
            "text/plain": [
              "['Colombia', 'Ecuador', 'China', 'Francia', 'PAraguay']"
            ]
          },
          "metadata": {},
          "execution_count": 80
        }
      ]
    },
    {
      "cell_type": "code",
      "source": [
        "#recorrereremos la lisa\n",
        "if \"China\" in paises:\n",
        "  print(\"País encontrado\")\n",
        "else:\n",
        "  \"Pais no encontrado\""
      ],
      "metadata": {
        "colab": {
          "base_uri": "https://localhost:8080/"
        },
        "id": "mnwwptjHwbTh",
        "outputId": "2283905c-92cd-4c3a-aa16-cc69d329e0cc"
      },
      "execution_count": null,
      "outputs": [
        {
          "output_type": "stream",
          "name": "stdout",
          "text": [
            "País encontrado\n"
          ]
        }
      ]
    },
    {
      "cell_type": "markdown",
      "source": [
        "Bucles: nos sirven para hacer acciones repetiamente, una cantidad de veces determinadas"
      ],
      "metadata": {
        "id": "AfMgs4jWw130"
      }
    },
    {
      "cell_type": "code",
      "source": [
        "for <variable> in <lista>:\n",
        "  <ejecute>\n"
      ],
      "metadata": {
        "id": "EvZPMTcGwpXj"
      },
      "execution_count": null,
      "outputs": []
    },
    {
      "cell_type": "code",
      "source": [
        "#Veamos un ejemplo\n",
        "for pais in paises:\n",
        "  print(pais)"
      ],
      "metadata": {
        "colab": {
          "base_uri": "https://localhost:8080/"
        },
        "id": "vGekzcazxJC5",
        "outputId": "4a1b75ee-37da-462c-e815-d6a5a3888e5c"
      },
      "execution_count": null,
      "outputs": [
        {
          "output_type": "stream",
          "name": "stdout",
          "text": [
            "Colombia\n",
            "Ecuador\n",
            "China\n",
            "Francia\n",
            "PAraguay\n"
          ]
        }
      ]
    },
    {
      "cell_type": "code",
      "source": [
        "#OTro ejemplo\n",
        "for pais in paises:\n",
        "  if pais == \"China\":\n",
        "    print(pais)"
      ],
      "metadata": {
        "colab": {
          "base_uri": "https://localhost:8080/"
        },
        "id": "fFhvNfjHxS6F",
        "outputId": "16d718a6-435f-4cd6-c84a-29929196247d"
      },
      "execution_count": null,
      "outputs": [
        {
          "output_type": "stream",
          "name": "stdout",
          "text": [
            "China\n"
          ]
        }
      ]
    },
    {
      "cell_type": "code",
      "source": [
        "#PAra enumerar los elementos de la iteración podemos usar la función enumerate, esto nos sirve para decirle cuantas veces debe iterar\n",
        "for numero, pais in enumerate (paises):\n",
        "  print(numero)\n",
        "  print(pais)"
      ],
      "metadata": {
        "colab": {
          "base_uri": "https://localhost:8080/"
        },
        "id": "08u8QuZcxgjw",
        "outputId": "9c3b6744-55be-4563-eae1-4eaf6f7f7674"
      },
      "execution_count": null,
      "outputs": [
        {
          "output_type": "stream",
          "name": "stdout",
          "text": [
            "0\n",
            "Colombia\n",
            "1\n",
            "Ecuador\n",
            "2\n",
            "China\n",
            "3\n",
            "Francia\n",
            "4\n",
            "PAraguay\n"
          ]
        }
      ]
    },
    {
      "cell_type": "markdown",
      "source": [
        "Funciones"
      ],
      "metadata": {
        "id": "hBqEIKSEy3Z6"
      }
    },
    {
      "cell_type": "code",
      "source": [
        "#funciones integradas, len me muestra la longitud de una variables\n",
        "len(paises)"
      ],
      "metadata": {
        "colab": {
          "base_uri": "https://localhost:8080/"
        },
        "id": "5fwuGXHbyT7s",
        "outputId": "34a84feb-11d8-4c32-d736-4f7e49d4bf50"
      },
      "execution_count": null,
      "outputs": [
        {
          "output_type": "execute_result",
          "data": {
            "text/plain": [
              "5"
            ]
          },
          "metadata": {},
          "execution_count": 86
        }
      ]
    },
    {
      "cell_type": "code",
      "source": [
        "#Max es una funcion que me muestra el maximo de un número de los datos\n",
        "max([5,48,98,62,4,7,3,24,1,4,5])"
      ],
      "metadata": {
        "colab": {
          "base_uri": "https://localhost:8080/"
        },
        "id": "5gVSOjnSzC-Y",
        "outputId": "9e8bc52d-fb03-4034-f0c7-d0548a4a697c"
      },
      "execution_count": null,
      "outputs": [
        {
          "output_type": "execute_result",
          "data": {
            "text/plain": [
              "98"
            ]
          },
          "metadata": {},
          "execution_count": 87
        }
      ]
    },
    {
      "cell_type": "code",
      "source": [
        "#Min es una funcion que me muestra el minimo de un número de los datos\n",
        "min([5,48,98,62,4,7,3,24,1,4,5])"
      ],
      "metadata": {
        "colab": {
          "base_uri": "https://localhost:8080/"
        },
        "id": "4dhkk7l8zRnz",
        "outputId": "f6dfc404-fb62-40f8-9eaa-7a0aac74cec8"
      },
      "execution_count": null,
      "outputs": [
        {
          "output_type": "execute_result",
          "data": {
            "text/plain": [
              "1"
            ]
          },
          "metadata": {},
          "execution_count": 88
        }
      ]
    },
    {
      "cell_type": "code",
      "source": [
        "#Type me muestra el tipo de datos de un elemento\n",
        "type(paises)"
      ],
      "metadata": {
        "colab": {
          "base_uri": "https://localhost:8080/"
        },
        "id": "VLWJCCEbzYfe",
        "outputId": "a7efb1b2-44e6-4a25-fe13-3f980578681a"
      },
      "execution_count": null,
      "outputs": [
        {
          "output_type": "execute_result",
          "data": {
            "text/plain": [
              "list"
            ]
          },
          "metadata": {},
          "execution_count": 89
        }
      ]
    },
    {
      "cell_type": "code",
      "source": [
        "#round nos sirve para redondear un valor dcecimal\n",
        "round(2.3333, 1)"
      ],
      "metadata": {
        "colab": {
          "base_uri": "https://localhost:8080/"
        },
        "id": "-_HoooqpzeQG",
        "outputId": "c53d6918-1d01-45fe-e19e-8c3ac3ab7785"
      },
      "execution_count": null,
      "outputs": [
        {
          "output_type": "execute_result",
          "data": {
            "text/plain": [
              "2.3"
            ]
          },
          "metadata": {},
          "execution_count": 90
        }
      ]
    },
    {
      "cell_type": "code",
      "source": [
        "#range crea una secuencia de números, tiene tres argumentos, el inicio, el final, y el salto\n",
        "range(0, 100, 5)\n",
        "contando=range(0,100,5)\n",
        "contando"
      ],
      "metadata": {
        "colab": {
          "base_uri": "https://localhost:8080/"
        },
        "id": "LcTZCisi0dcd",
        "outputId": "3634b9aa-451e-4aad-f76b-a6dba2f6ce4f"
      },
      "execution_count": null,
      "outputs": [
        {
          "output_type": "execute_result",
          "data": {
            "text/plain": [
              "range(0, 100, 5)"
            ]
          },
          "metadata": {},
          "execution_count": 92
        }
      ]
    },
    {
      "cell_type": "code",
      "source": [
        "#PAra ver como funciona esta \"función\" debo recorrerla con un for\n",
        "for i in contando:\n",
        "  print(i)"
      ],
      "metadata": {
        "colab": {
          "base_uri": "https://localhost:8080/"
        },
        "id": "QTwvs2hs0tAR",
        "outputId": "3f318925-9fd1-439d-c5f9-a922dca83d6f"
      },
      "execution_count": null,
      "outputs": [
        {
          "output_type": "stream",
          "name": "stdout",
          "text": [
            "0\n",
            "5\n",
            "10\n",
            "15\n",
            "20\n",
            "25\n",
            "30\n",
            "35\n",
            "40\n",
            "45\n",
            "50\n",
            "55\n",
            "60\n",
            "65\n",
            "70\n",
            "75\n",
            "80\n",
            "85\n",
            "90\n",
            "95\n"
          ]
        }
      ]
    },
    {
      "cell_type": "markdown",
      "source": [
        "Funciones propias, son segementos de código que puedo reutilizar y que cumplen una tarea en particular"
      ],
      "metadata": {
        "id": "5M_r4x_K1dFs"
      }
    },
    {
      "cell_type": "code",
      "source": [
        "#Sintaxis de una función\n",
        "#def funcion (parametro):\n",
        "  #<ejetucar>\n",
        "  #return<datos>"
      ],
      "metadata": {
        "id": "jq4qrVUP02gU"
      },
      "execution_count": null,
      "outputs": []
    },
    {
      "cell_type": "code",
      "source": [
        "#ejemplo cuando escribo una función se declaraan los parametros, cuando la ejecuto ingreso los argumentos\n",
        "def suma (a, b):\n",
        "  resultado = a + b\n",
        "  return resultado"
      ],
      "metadata": {
        "id": "EDnxVHlT1vZT"
      },
      "execution_count": null,
      "outputs": []
    },
    {
      "cell_type": "code",
      "source": [
        "#para ejecutar la función  lo que hago es llamar la función y pasarle argumentos\n",
        "suma(856,561)"
      ],
      "metadata": {
        "colab": {
          "base_uri": "https://localhost:8080/"
        },
        "id": "jV_a-ZwhBLvI",
        "outputId": "ac6c2e82-7ff9-4905-b1ff-6e79119695aa"
      },
      "execution_count": null,
      "outputs": [
        {
          "output_type": "execute_result",
          "data": {
            "text/plain": [
              "1417"
            ]
          },
          "metadata": {},
          "execution_count": 6
        }
      ]
    },
    {
      "cell_type": "code",
      "source": [
        "#Ahora hagamos una función para la resta de dos números\n",
        "def resta (a,b):\n",
        "  diferencia = a - b\n",
        "  return diferencia"
      ],
      "metadata": {
        "id": "zWDRLTp6pFg6"
      },
      "execution_count": null,
      "outputs": []
    },
    {
      "cell_type": "code",
      "source": [
        "#Ahora hagamos una función para una multiplicación\n",
        "def multiplicacion (a,b):\n",
        "  producto =a*b\n",
        "  return producto"
      ],
      "metadata": {
        "id": "3V-ACmi2pcuz"
      },
      "execution_count": null,
      "outputs": []
    },
    {
      "cell_type": "code",
      "source": [
        "#Ahora hgamos una función para una divison\n",
        "def dividir(a, b):\n",
        "    if b != 0:  # Aseguramos que no se divida entre 0\n",
        "        return a / b\n",
        "    else:\n",
        "        return \"Error: No se puede dividir entre 0\""
      ],
      "metadata": {
        "id": "X8jc1fVzp7Yx"
      },
      "execution_count": null,
      "outputs": []
    },
    {
      "cell_type": "markdown",
      "source": [
        "**PAra practicar puedo recibir datos por consola, y evaluar las variables, para esto puedo utelizar la función input, que me permite recibir un dato por consola evaluarlo y luego dar una salida**"
      ],
      "metadata": {
        "id": "4LtWXGjmniXx"
      }
    },
    {
      "cell_type": "code",
      "source": [
        "#Para usar la función inputo debo declararla, antes de declararla la puedo guardar en una variable, vemos el ejemplo\n",
        "saludo=input(\"Hola ingresa tu nombre\")\n",
        "espacio=\" \"\n",
        "hola=\"Hola\"\n",
        "print(hola+espacio+saludo)"
      ],
      "metadata": {
        "id": "7RzKTlg4BeyV",
        "colab": {
          "base_uri": "https://localhost:8080/"
        },
        "outputId": "a9f06faa-31dd-41f5-8c96-d359a31084f4"
      },
      "execution_count": null,
      "outputs": [
        {
          "output_type": "stream",
          "name": "stdout",
          "text": [
            "Hola ingresa tu nombrejose\n",
            "Hola jose\n"
          ]
        }
      ]
    },
    {
      "cell_type": "markdown",
      "source": [
        "Creemos una calculadora de dos digitos"
      ],
      "metadata": {
        "id": "CKZWhPTZqngz"
      }
    },
    {
      "cell_type": "code",
      "source": [
        "from __future__ import division\n",
        "calculadora_=input(\"\"\"Hola bienvenido a tu calculadora, recuerda que acá solo podrás realizar: sumas, restas, multiplicaciones y divisiones\n",
        "ingresa 1 para hacer una suma\n",
        "ingresa 2 para hacer una resta\n",
        "ingresa 3 para hacer una mulplicación\n",
        "ingresa 4 para hacer una división \"\"\")\n",
        "\n",
        "if calculadora_ == \"1\":\n",
        "  num1=int(input(\"Ingrese al primer sumando: \"))\n",
        "  num2=int(input(\"Ingrese al segundo sumando: \"))\n",
        "  print(\"La suma es=\", suma(num1,num2))\n",
        "elif calculadora_ == \"2\":\n",
        "  num1=int(input(\"Ingrese el minuendo: \"))\n",
        "  num2=int(input(\"Ingrese al sustraendo: \"))\n",
        "  print(\"La diferencia es=\", resta(num1,num2))\n",
        "elif calculadora_ == \"3\":\n",
        "  num1=int(input(\"Ingrese el primer factor: \"))\n",
        "  num2=int(input(\"Ingrese al segundo factor: \"))\n",
        "  print(\"El producto es=\", multiplicacion(num1,num2))\n",
        "elif calculadora_ == \"4\":\n",
        "  num1=int(input(\"Ingrese el dividendo: \"))\n",
        "  num2=int(input(\"Ingrese al divisor: \"))\n",
        "  print(\"El resultado de la división es\",dividir(num1,num2))\n",
        "else:\n",
        "  print(\"El valor que ingresaste no es valido\")\n",
        "\n",
        "\n",
        "\n"
      ],
      "metadata": {
        "colab": {
          "base_uri": "https://localhost:8080/"
        },
        "id": "fd3xjCumouex",
        "outputId": "375e0672-7854-4deb-8d03-dcd5a90172cc"
      },
      "execution_count": null,
      "outputs": [
        {
          "output_type": "stream",
          "name": "stdout",
          "text": [
            "Hola bienvenido a tu calculadora, recuerda que acá solo podrás realizar: sumas, restas, multiplicaciones y divisiones\n",
            "ingresa 1 para hacer una suma\n",
            "ingresa 2 para hacer una resta\n",
            "ingresa 3 para hacer una mulplicación\n",
            "ingresa 4 para hacer una división 8\n",
            "El valor que ingresaste no es valido\n"
          ]
        }
      ]
    },
    {
      "cell_type": "markdown",
      "source": [
        "Escribe un programa que calcule el total de una compra en un supermercado. El usuario debe ingresar el precio de dos productos y las cantidades que desea comprar de cada uno. Luego, el programa deberá permitir al usuario:\n",
        "\n",
        "Sumar los precios de ambos productos.\n",
        "Multiplicar los precios por las cantidades de productos para obtener el costo total.\n",
        "Restar un descuento del precio total (si el usuario tiene un cupón).\n",
        "Dividir el total entre dos personas (si desean dividir la cuenta)."
      ],
      "metadata": {
        "id": "AEMXSEbX0t86"
      }
    },
    {
      "cell_type": "code",
      "source": [
        "# Funciones para las operaciones\n",
        "def suma(a, b):\n",
        "    return a + b\n",
        "\n",
        "def resta(a, b):\n",
        "    return a - b\n",
        "\n",
        "def multiplicacion(a, b):\n",
        "    return a * b\n",
        "\n",
        "def dividir(a, b):\n",
        "    if b != 0:  # Verificar que no se divida entre 0\n",
        "        return a / b\n",
        "    else:\n",
        "        return \"Error: No se puede dividir entre 0\"\n",
        "\n",
        "# Introducción\n",
        "print(\"Bienvenido al Supermercado.\\n\")\n",
        "\n",
        "# Input: precios y cantidades de productos\n",
        "precio1 = float(input(\"Ingrese el precio del primer producto: \"))\n",
        "cantidad1 = int(input(\"Ingrese la cantidad del primer producto: \"))\n",
        "\n",
        "precio2 = float(input(\"Ingrese el precio del segundo producto: \"))\n",
        "cantidad2 = int(input(\"Ingrese la cantidad del segundo producto: \"))\n",
        "\n",
        "# Menú para elegir la operación\n",
        "operacion = input(\"\"\"¿Qué operación deseas realizar?\n",
        "1 - Sumar los precios de ambos productos.\n",
        "2 - Calcular el costo total multiplicando precio por cantidad.\n",
        "3 - Aplicar un descuento al total (resta).\n",
        "4 - Dividir el total entre dos personas.\n",
        "Elige una opción (1, 2, 3 o 4): \"\"\")\n",
        "\n",
        "# Operaciones según la elección del usuario\n",
        "if operacion == \"1\":\n",
        "    # Sumar precios de ambos productos\n",
        "    total_precio = suma(precio1, precio2)\n",
        "    print(f\"La suma de los precios es: {total_precio:.2f}\")\n",
        "\n",
        "elif operacion == \"2\":\n",
        "    # Calcular el costo total multiplicando precios por cantidades\n",
        "    total1 = multiplicacion(precio1, cantidad1)\n",
        "    total2 = multiplicacion(precio2, cantidad2)\n",
        "    total_compra = suma(total1, total2)\n",
        "    print(f\"El costo total de la compra es: {total_compra:.2f}\")\n",
        "\n",
        "elif operacion == \"3\":\n",
        "    # Restar un descuento al total de la compra\n",
        "    descuento = float(input(\"Ingrese el monto del descuento: \"))\n",
        "    total1 = multiplicacion(precio1, cantidad1)\n",
        "    total2 = multiplicacion(precio2, cantidad2)\n",
        "    total_compra = suma(total1, total2)\n",
        "    total_con_descuento = resta(total_compra, descuento)\n",
        "    print(f\"El total con el descuento aplicado es: {total_con_descuento:.2f}\")\n",
        "\n",
        "elif operacion == \"4\":\n",
        "    # Dividir el total entre dos personas\n",
        "    total1 = multiplicacion(precio1, cantidad1)\n",
        "    total2 = multiplicacion(precio2, cantidad2)\n",
        "    total_compra = suma(total1, total2)\n",
        "    total_dividido = dividir(total_compra, 2)\n",
        "    print(f\"El total dividido entre dos personas es: {total_dividido:.2f}\")\n",
        "\n",
        "else:\n",
        "    print(\"Opción no válida.\")\n"
      ],
      "metadata": {
        "colab": {
          "base_uri": "https://localhost:8080/"
        },
        "id": "pa2B4rMkrFRP",
        "outputId": "2e34be82-6e02-4278-d870-c46f42c4dbfb"
      },
      "execution_count": null,
      "outputs": [
        {
          "output_type": "stream",
          "name": "stdout",
          "text": [
            "Bienvenido al Supermercado.\n",
            "\n",
            "Ingrese el precio del primer producto: 3000\n",
            "Ingrese la cantidad del primer producto: 56\n",
            "Ingrese el precio del segundo producto: 5444\n",
            "Ingrese la cantidad del segundo producto: 12\n",
            "¿Qué operación deseas realizar?\n",
            "1 - Sumar los precios de ambos productos.\n",
            "2 - Calcular el costo total multiplicando precio por cantidad.\n",
            "3 - Aplicar un descuento al total (resta).\n",
            "4 - Dividir el total entre dos personas.\n",
            "Elige una opción (1, 2, 3 o 4): 4\n",
            "El total dividido entre dos personas es: 116664.00\n"
          ]
        }
      ]
    }
  ]
}