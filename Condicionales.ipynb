{
 "cells": [
  {
   "cell_type": "markdown",
   "metadata": {},
   "source": [
    "<h2>Condicionales o ramas\n",
    "- Comparación\n",
    "- Ramas<h2>"
   ]
  },
  {
   "cell_type": "markdown",
   "metadata": {},
   "source": [
    "Las condicionales o ramas nos ayudan a tomar una decisión, las condicionales nos ,muestra un mensaje de verdadero o calso según sea el caso, veamos el ejemplo"
   ]
  },
  {
   "cell_type": "code",
   "execution_count": 3,
   "metadata": {},
   "outputs": [
    {
     "data": {
      "text/plain": [
       "False"
      ]
     },
     "execution_count": 3,
     "metadata": {},
     "output_type": "execute_result"
    }
   ],
   "source": [
    "a=6 #En este caso, nos va a dar como resultado True porque 6 si es el valor \n",
    "a==6"
   ]
  },
  {
   "cell_type": "code",
   "execution_count": 4,
   "metadata": {},
   "outputs": [
    {
     "data": {
      "text/plain": [
       "False"
      ]
     },
     "execution_count": 4,
     "metadata": {},
     "output_type": "execute_result"
    }
   ],
   "source": [
    "b=7#En este caso deberiamos tener como resultado un False\n",
    "b==8"
   ]
  },
  {
   "cell_type": "code",
   "execution_count": 6,
   "metadata": {},
   "outputs": [
    {
     "data": {
      "text/plain": [
       "True"
      ]
     },
     "execution_count": 6,
     "metadata": {},
     "output_type": "execute_result"
    }
   ],
   "source": [
    "#Veamos ahora otros operadores de comparación como mayor que o menor que \n",
    "i=6 #Esto deberia ser verdadero, debido a que 6 si es mayor que 5\n",
    "i>5\n"
   ]
  },
  {
   "cell_type": "code",
   "execution_count": 7,
   "metadata": {},
   "outputs": [
    {
     "data": {
      "text/plain": [
       "False"
      ]
     },
     "execution_count": 7,
     "metadata": {},
     "output_type": "execute_result"
    }
   ],
   "source": [
    "#Veamos ahora otros operadores de comparación como mayor que o menor que \n",
    "i=4 #Esto deberia ser falsopor que 4 no es mayor que 5\n",
    "i>5"
   ]
  },
  {
   "cell_type": "code",
   "execution_count": 9,
   "metadata": {},
   "outputs": [
    {
     "data": {
      "text/plain": [
       "True"
      ]
     },
     "execution_count": 9,
     "metadata": {},
     "output_type": "execute_result"
    }
   ],
   "source": [
    "#Usanbdo el igual (=) al lado de ><, se cumple la condicion de que si es mayor o igual y menor o igual, mayor o igual ejemplo\n",
    "5>=4\n",
    "5>=5"
   ]
  },
  {
   "cell_type": "code",
   "execution_count": 11,
   "metadata": {},
   "outputs": [
    {
     "data": {
      "text/plain": [
       "True"
      ]
     },
     "execution_count": 11,
     "metadata": {},
     "output_type": "execute_result"
    }
   ],
   "source": [
    "#Usanbdo el igual (=) al lado de ><, se cumple la condicion de que si es mayor o igual y menor o igual, manor o igual ejemplo\n",
    "7<=10\n",
    "7<=7"
   ]
  },
  {
   "cell_type": "code",
   "execution_count": 12,
   "metadata": {},
   "outputs": [
    {
     "data": {
      "text/plain": [
       "True"
      ]
     },
     "execution_count": 12,
     "metadata": {},
     "output_type": "execute_result"
    }
   ],
   "source": [
    "#Para hacer una comparación de diferente que, se usa el conjunto de simbolos de admiración e igual (!=), veamos un ejemplo verdadero y uno falso\n",
    "7!=6 # Esto debería ser verdadero, por que 7 es diferente de 6"
   ]
  },
  {
   "cell_type": "code",
   "execution_count": 13,
   "metadata": {},
   "outputs": [
    {
     "data": {
      "text/plain": [
       "False"
      ]
     },
     "execution_count": 13,
     "metadata": {},
     "output_type": "execute_result"
    }
   ],
   "source": [
    "7!=7#PAra este caso el resultado deberia ser falso por que si no es diferente de 7"
   ]
  },
  {
   "cell_type": "code",
   "execution_count": 14,
   "metadata": {},
   "outputs": [
    {
     "data": {
      "text/plain": [
       "False"
      ]
     },
     "execution_count": 14,
     "metadata": {},
     "output_type": "execute_result"
    }
   ],
   "source": [
    "#También podemos comparar textos, por ejemplo\n",
    "\"Jose\"==\"José\" #Esto debería ser falso por que el segundo José tiene una tilde"
   ]
  },
  {
   "cell_type": "code",
   "execution_count": 15,
   "metadata": {},
   "outputs": [
    {
     "data": {
      "text/plain": [
       "True"
      ]
     },
     "execution_count": 15,
     "metadata": {},
     "output_type": "execute_result"
    }
   ],
   "source": [
    "\"Jose\"==\"Jose\" #En este caso debería ser verdadero por que los dos string son identicos"
   ]
  },
  {
   "cell_type": "markdown",
   "metadata": {},
   "source": [
    "<h3>Ramas</h3>"
   ]
  },
  {
   "cell_type": "markdown",
   "metadata": {},
   "source": [
    "Pensemos en las ramas como una para entrar al programa, Si la condición es verdadera, la puerta se abre y se puede ingresar al programa, por el contrario Si la condición es falsa no se abre la puerta y por lo tanto no se puede ingresar al programa."
   ]
  },
  {
   "cell_type": "code",
   "execution_count": 17,
   "metadata": {},
   "outputs": [
    {
     "name": "stdout",
     "output_type": "stream",
     "text": [
      "no puedes entrar\n"
     ]
    }
   ],
   "source": [
    "#LA siguiente es la sintaxis para el if\n",
    "age = 17\n",
    "if (age > 18):\n",
    "    print(\"Tu puedes entrar\")\n",
    "print(\"no puedes entrar\")"
   ]
  },
  {
   "cell_type": "code",
   "execution_count": 18,
   "metadata": {},
   "outputs": [
    {
     "name": "stdout",
     "output_type": "stream",
     "text": [
      "Puedes entrar al conciero de RBD\n",
      "Bye\n"
     ]
    }
   ],
   "source": [
    "#La sentencia else nos ayuda a ejecutar un bloque de código que se ejecutara si no se cumple la condición\n",
    "if age>18:\n",
    "    print(\"pueden entrar al concierto de Bad Bunny\")\n",
    "else: #Essta es la forma de escribir la condicional else\n",
    "    print(\"Puedes entrar al conciero de RBD\")\n",
    "print(\"Bye\")\n"
   ]
  },
  {
   "cell_type": "code",
   "execution_count": 28,
   "metadata": {},
   "outputs": [
    {
     "name": "stdout",
     "output_type": "stream",
     "text": [
      "Mejor que vayas a RBD\n",
      "Corre\n"
     ]
    }
   ],
   "source": [
    "#La instrucción elif, es la abreviatura de else if, esta permite ejecutar mas condicionales si la anterior es falsa.\n",
    "age=15\n",
    "if age>18:\n",
    "    print(\"puedes entrar al concierto de Bad Bunny\")\n",
    "elif age==18:\n",
    "    print(\"puedes entrar al concierto de Balvin\")\n",
    "else:\n",
    "    print(\"Mejor que vayas a RBD\")\n",
    "print(\"Corre\")"
   ]
  },
  {
   "cell_type": "markdown",
   "metadata": {},
   "source": [
    "<h3>Operadores Lógicos</h3>"
   ]
  },
  {
   "cell_type": "markdown",
   "metadata": {},
   "source": [
    "Los operadores lógicos producen dos salidas, False o True"
   ]
  },
  {
   "cell_type": "code",
   "execution_count": 31,
   "metadata": {},
   "outputs": [
    {
     "data": {
      "text/plain": [
       "True"
      ]
     },
     "execution_count": 31,
     "metadata": {},
     "output_type": "execute_result"
    }
   ],
   "source": [
    "#El primer operdaor lógico es not(), si la entrada es verdaderala salida será falsa, veamos el ejemplo\n",
    "not(True)\n",
    "#Por el contrario si la entrada esl falsa, la salida será verdadera\n",
    "not(False)"
   ]
  },
  {
   "cell_type": "markdown",
   "metadata": {},
   "source": [
    "Aca veremos el operador OR, para esto es mejor usar una tabla de verdad para or entre dos variables \n",
    "<table>\n",
    "  <thead>\n",
    "    <tr>\n",
    "      <th>Operando 1</th>\n",
    "      <th>Operando 2</th>\n",
    "      <th>Resultado</th>\n",
    "    </tr>\n",
    "  </thead>\n",
    "  <tbody>\n",
    "    <tr>\n",
    "      <td>false</td>\n",
    "      <td>false</td>\n",
    "      <td>false</td>\n",
    "    </tr>\n",
    "    <tr>\n",
    "      <td>false</td>\n",
    "      <td>true</td>\n",
    "      <td>true</td>\n",
    "    </tr>\n",
    "    <tr>\n",
    "      <td>true</td>\n",
    "      <td>false</td>\n",
    "      <td>true</td>\n",
    "    </tr>\n",
    "    <tr>\n",
    "      <td>true</td>\n",
    "      <td>true</td>\n",
    "      <td>true</td>\n",
    "    </tr>\n",
    "  </tbody>\n",
    "</table>\n"
   ]
  },
  {
   "cell_type": "markdown",
   "metadata": {},
   "source": []
  }
 ],
 "metadata": {
  "interpreter": {
   "hash": "04fc3788c23b76e7690e4a8f94f97baaccd63f88ab3a053e1729aa9ad5b22ac6"
  },
  "kernelspec": {
   "display_name": "Python 3.10.9 ('base')",
   "language": "python",
   "name": "python3"
  },
  "language_info": {
   "codemirror_mode": {
    "name": "ipython",
    "version": 3
   },
   "file_extension": ".py",
   "mimetype": "text/x-python",
   "name": "python",
   "nbconvert_exporter": "python",
   "pygments_lexer": "ipython3",
   "version": "3.10.9"
  },
  "orig_nbformat": 4
 },
 "nbformat": 4,
 "nbformat_minor": 2
}
