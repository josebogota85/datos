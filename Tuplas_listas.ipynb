{
 "cells": [
  {
   "cell_type": "markdown",
   "id": "da9a3689",
   "metadata": {},
   "source": [
    "<h2>En este caso trabajaremos tuplas, estas son super importantes y hay que prestar mucha atención, las tuplas son un tipo de datos compuesto</h2>"
   ]
  },
  {
   "cell_type": "markdown",
   "id": "6a905089",
   "metadata": {},
   "source": [
    "<h3>Tuplas</h3>"
   ]
  },
  {
   "cell_type": "code",
   "execution_count": 1,
   "id": "7c0fa670",
   "metadata": {},
   "outputs": [
    {
     "name": "stdout",
     "output_type": "stream",
     "text": [
      "(10, 9, 8, 7, 6, 5, 4, 3, 2, 1, 0)\n"
     ]
    }
   ],
   "source": [
    "#LAS TUPLAS SON SECUENCIAS ORDENADAS DE DATOA, se ecpresan com parentesis y los datos se separan por comas\n",
    "rating=(10,9,8,7,6,5,4,3,2,1,0)\n",
    "print(rating)"
   ]
  },
  {
   "cell_type": "code",
   "execution_count": 2,
   "id": "3f45420e",
   "metadata": {},
   "outputs": [],
   "source": [
    "#Una tupla puede contener tipos de datos variados, int, str, float... Sin embargo, se guardata como tipo de dato tuple\n",
    "datos=(\"cedula\", \"80865042\", 37, \"masculino\")"
   ]
  },
  {
   "cell_type": "code",
   "execution_count": 3,
   "id": "abe6bdb5",
   "metadata": {},
   "outputs": [
    {
     "name": "stdout",
     "output_type": "stream",
     "text": [
      "<class 'tuple'>\n"
     ]
    }
   ],
   "source": [
    "print(type(datos))#Acá vemos como los tipos de dato dentro de los parentesis los toma con formato tuple"
   ]
  },
  {
   "cell_type": "code",
   "execution_count": 4,
   "id": "b4235840",
   "metadata": {},
   "outputs": [
    {
     "data": {
      "text/plain": [
       "'cedula'"
      ]
     },
     "execution_count": 4,
     "metadata": {},
     "output_type": "execute_result"
    }
   ],
   "source": [
    "#Puedo acceder a los elementos de la tupla usando, un indice, de izquierda a derecha comienza con 0 y de derecha a izquierda comienza con -1\n",
    "datos[0]# este dee llamar el elmento de izquiera a derecha"
   ]
  },
  {
   "cell_type": "code",
   "execution_count": 5,
   "id": "ecaa20e9",
   "metadata": {},
   "outputs": [
    {
     "data": {
      "text/plain": [
       "'80865042'"
      ]
     },
     "execution_count": 5,
     "metadata": {},
     "output_type": "execute_result"
    }
   ],
   "source": [
    "datos[1]#Debe traerme la cédula"
   ]
  },
  {
   "cell_type": "code",
   "execution_count": 6,
   "id": "8bf7bc43",
   "metadata": {},
   "outputs": [
    {
     "data": {
      "text/plain": [
       "37"
      ]
     },
     "execution_count": 6,
     "metadata": {},
     "output_type": "execute_result"
    }
   ],
   "source": [
    "datos[2]# Debe traerme la edad"
   ]
  },
  {
   "cell_type": "code",
   "execution_count": 7,
   "id": "af3de77e",
   "metadata": {},
   "outputs": [
    {
     "data": {
      "text/plain": [
       "'masculino'"
      ]
     },
     "execution_count": 7,
     "metadata": {},
     "output_type": "execute_result"
    }
   ],
   "source": [
    "datos[3]# Debe traerme el genero"
   ]
  },
  {
   "cell_type": "code",
   "execution_count": 11,
   "id": "3a153759",
   "metadata": {},
   "outputs": [],
   "source": [
    "#Podemos adicionarle elementos a la tupla, o agrandandola, de la siguiente manera\n",
    "datos_completos=datos+(\"famisanar\", 3,500.000)"
   ]
  },
  {
   "cell_type": "code",
   "execution_count": 12,
   "id": "f0c3799d",
   "metadata": {},
   "outputs": [
    {
     "name": "stdout",
     "output_type": "stream",
     "text": [
      "('cedula', '80865042', 37, 'masculino', 'famisanar', 3, 500.0)\n"
     ]
    }
   ],
   "source": [
    "print(datos_completos)"
   ]
  },
  {
   "cell_type": "code",
   "execution_count": 15,
   "id": "83b785cc",
   "metadata": {},
   "outputs": [
    {
     "data": {
      "text/plain": [
       "('cedula', '80865042', 37)"
      ]
     },
     "execution_count": 15,
     "metadata": {},
     "output_type": "execute_result"
    }
   ],
   "source": [
    "#si quiero llamar ciertos elementos de las tuplas (no solo uno), puedo cortarla usando indices\n",
    "datos_completos[0:3]"
   ]
  },
  {
   "cell_type": "code",
   "execution_count": 16,
   "id": "d58777f4",
   "metadata": {},
   "outputs": [
    {
     "data": {
      "text/plain": [
       "(2, 3, 4)"
      ]
     },
     "execution_count": 16,
     "metadata": {},
     "output_type": "execute_result"
    }
   ],
   "source": [
    "tupla1=(1,2,3,4,5)\n",
    "tupla1[1:4]# hay que tener claro que cuando llamo los indices estos no se muestran."
   ]
  },
  {
   "cell_type": "markdown",
   "id": "f0202d8b",
   "metadata": {},
   "source": [
    "Para medir la longitud de una tupla o una lista se puede usar la función , hay que tener en cuenta que las tuplas son inmutables, por esta razón no podemos cambiar sus valores, si queremos manipular una tupla lo mejor será crear otra tupla en su lugar, "
   ]
  },
  {
   "cell_type": "code",
   "execution_count": 4,
   "id": "0d2fd311",
   "metadata": {},
   "outputs": [
    {
     "name": "stdout",
     "output_type": "stream",
     "text": [
      "6\n"
     ]
    }
   ],
   "source": [
    "tupla1=(1,2,3,4,5,6) #Acá vemos como medir la longitud de una tupla\n",
    "longitud_tupla1=len(tupla1)\n",
    "print(longitud_tupla1)"
   ]
  },
  {
   "cell_type": "markdown",
   "id": "dd0f81f9",
   "metadata": {},
   "source": [
    "Para ordenar una tupla lo que podemos hacer es usar la función sorted, pero debemos crear una tupla nueva que guarde ese resultado, ver eel ejemplo"
   ]
  },
  {
   "cell_type": "code",
   "execution_count": 6,
   "id": "c8fb1c7c",
   "metadata": {},
   "outputs": [
    {
     "name": "stdout",
     "output_type": "stream",
     "text": [
      "[0, 1, 2, 3, 4, 5, 6, 7, 8, 9]\n"
     ]
    }
   ],
   "source": [
    "digitos=(1,3,2,4,6,5,7,9,8,0)\n",
    "digitos_ordenados=sorted(digitos)\n",
    "print(digitos_ordenados)"
   ]
  },
  {
   "cell_type": "markdown",
   "id": "16a08734",
   "metadata": {},
   "source": [
    "Una tupla puede contener otra tupla y otros tipos de datos, a este proceso se le llama anidación, para acceder a estos elementos podemos usar indices, para llamar una tupla dentro de otra tupla podemos hacer un llamado de arbol, es decir usar un indice pequeño de la tupla anidada, es mejor con un ejemplo"
   ]
  },
  {
   "cell_type": "code",
   "execution_count": 8,
   "id": "aa0b8258",
   "metadata": {},
   "outputs": [
    {
     "data": {
      "text/plain": [
       "'pop'"
      ]
     },
     "execution_count": 8,
     "metadata": {},
     "output_type": "execute_result"
    }
   ],
   "source": [
    "mezclados=(1,2,(\"pop\",\"rock\"),(3,4),(\"disco\",(1,2)))\n",
    "mezclados[2][0]#Esto nos debe mostrar la palabra pop\n"
   ]
  },
  {
   "cell_type": "code",
   "execution_count": 9,
   "id": "b5d6e841",
   "metadata": {},
   "outputs": [
    {
     "data": {
      "text/plain": [
       "4"
      ]
     },
     "execution_count": 9,
     "metadata": {},
     "output_type": "execute_result"
    }
   ],
   "source": [
    "mezclados=(1,2,(\"pop\",\"rock\"),(3,4),(\"disco\",(1,2)))\n",
    "mezclados[3][1]#Esto debería mostrarnos el número 4"
   ]
  },
  {
   "cell_type": "code",
   "execution_count": 12,
   "id": "9fef456b",
   "metadata": {},
   "outputs": [
    {
     "data": {
      "text/plain": [
       "2"
      ]
     },
     "execution_count": 12,
     "metadata": {},
     "output_type": "execute_result"
    }
   ],
   "source": [
    "mezclados=(1,2,(\"pop\",\"rock\"),(3,4),(\"disco\",(1,2)))\n",
    "mezclados[4][1][1]#Esto debería mostrarnos el número 2, acá estoy entrando en tres tuplas anidadas"
   ]
  },
  {
   "cell_type": "markdown",
   "id": "eaa9f9c3",
   "metadata": {},
   "source": [
    "<h3>Litas</h3>"
   ]
  },
  {
   "cell_type": "markdown",
   "id": "47caab9d",
   "metadata": {},
   "source": [
    "Las listas son una secuencia ordenada de datos, son muy populares en python, al contrario de las tuplas las listas se representan con corchetes, y en su interior los datos se separan por comas, las listas por el contrario de las tuplas si se pueden modificar, las listas pueden contener diferentes tipos de datos, incluso pueden contener tuplas, se aplican las mimas reglas de indexación "
   ]
  },
  {
   "cell_type": "code",
   "execution_count": 1,
   "id": "0c2734e6",
   "metadata": {},
   "outputs": [
    {
     "data": {
      "text/plain": [
       "['nombres: Jose luis', 'apellidos: Rincón Ortiz']"
      ]
     },
     "execution_count": 1,
     "metadata": {},
     "output_type": "execute_result"
    }
   ],
   "source": [
    "datos_lista=[\"nombres: Jose luis\", \"apellidos: Rincón Ortiz\",\"edad: \", 37, \"sexo: \", True]\n",
    "datos_lista[0:2] #De esta manera podemos traer ciertas partes de la lista"
   ]
  },
  {
   "cell_type": "markdown",
   "id": "b5ba73d8",
   "metadata": {},
   "source": [
    "Las listas se pueden concatenar y combinar, veamos el siguiente ekemplo"
   ]
  },
  {
   "cell_type": "code",
   "execution_count": 6,
   "id": "31544482",
   "metadata": {},
   "outputs": [
    {
     "name": "stdout",
     "output_type": "stream",
     "text": [
      "['Jose', ' Luis', ' Rincon ', 'Ortiz']\n"
     ]
    }
   ],
   "source": [
    "nombres_ =[\"Jose\",\" Luis\" ]\n",
    "apellidos_=[\" Rincon \", \"Ortiz\"]\n",
    "print(nombres_+ apellidos_) #Este es un ejemlo de como puedo concatenar listas"
   ]
  },
  {
   "cell_type": "code",
   "execution_count": 7,
   "id": "3ff880aa",
   "metadata": {},
   "outputs": [
    {
     "data": {
      "text/plain": [
       "[1, 2, 3, 1, 1, 1]"
      ]
     },
     "execution_count": 7,
     "metadata": {},
     "output_type": "execute_result"
    }
   ],
   "source": [
    "#Ejercicio\n",
    "[1,2,3]+[1,1,1]"
   ]
  },
  {
   "cell_type": "code",
   "execution_count": 16,
   "id": "3cd688ed",
   "metadata": {},
   "outputs": [
    {
     "name": "stdout",
     "output_type": "stream",
     "text": [
      "['Laura', 'Carolina', 'Parada', 'Rincon']\n"
     ]
    }
   ],
   "source": [
    "#Podemos extender una lista se puede usar el medito de .extend, como en el siguiente ejemplo, ojo por que en contrario con el caso de .appen en este caso no se crea una nueva lista.\n",
    "nombres_.extend([apellidos_])\n",
    "nombre_lala=[\"Laura\",\"Carolina\"]\n",
    "nombre_lala.extend([\"Parada\",\"Rincon\"])\n",
    "print(nombre_lala)"
   ]
  },
  {
   "cell_type": "code",
   "execution_count": 9,
   "id": "6f905e3f",
   "metadata": {},
   "outputs": [
    {
     "name": "stdout",
     "output_type": "stream",
     "text": [
      "['Jose', ' Luis', [' Rincon ', 'Ortiz']]\n"
     ]
    }
   ],
   "source": [
    "print(nombres_)"
   ]
  },
  {
   "cell_type": "code",
   "execution_count": 12,
   "id": "275e1b60",
   "metadata": {},
   "outputs": [
    {
     "name": "stdout",
     "output_type": "stream",
     "text": [
      "['Jose', ' Luis', ['Rincon', 'Ortiz']]\n"
     ]
    }
   ],
   "source": [
    "#El otro metodo para agregar un elemento a una lista es .append, miremos el ejemplo\n",
    "nombres_ =[\"Jose\",\" Luis\" ]\n",
    "nombres_.append([\"Rincon\",\"Ortiz\"])\n",
    "print(nombres_)"
   ]
  },
  {
   "cell_type": "code",
   "execution_count": 14,
   "id": "fbd98aba",
   "metadata": {},
   "outputs": [
    {
     "data": {
      "text/plain": [
       "2"
      ]
     },
     "execution_count": 14,
     "metadata": {},
     "output_type": "execute_result"
    }
   ],
   "source": [
    "#Ejercicio\n",
    "A = [1]\n",
    "A.append([2,3,4,5])\n",
    "len(A)"
   ]
  },
  {
   "cell_type": "code",
   "execution_count": 22,
   "id": "09b37eed",
   "metadata": {},
   "outputs": [
    {
     "name": "stdout",
     "output_type": "stream",
     "text": [
      "['a', 'b', 'c', 'd', 'e', 'f', 'g', '...', '7']\n"
     ]
    }
   ],
   "source": [
    "#Como las listas son mutables se pueden cambiar solo llamando al indice que queremos cambiar, veamos el siguiente ejemplo\n",
    "abcdario=[\"a\",\"b\",\"c\",\"d\",\"z\",\"f\",\"g\",\"...\"]\n",
    "#Como se ve la z no esta en el lugar que corresponde entonces cambiaremos por la e\n",
    "abcdario[4]=\"e\"\n",
    "abcdario.extend([\"7\"])#Vamos a agregar un siete para luego eliminarlo usando la función del\n",
    "print(abcdario)"
   ]
  },
  {
   "cell_type": "code",
   "execution_count": 23,
   "id": "5e56663b",
   "metadata": {},
   "outputs": [
    {
     "name": "stdout",
     "output_type": "stream",
     "text": [
      "['a', 'b', 'c', 'd', 'e', 'f', 'g', '...']\n"
     ]
    }
   ],
   "source": [
    "del(abcdario[8]) #en este caso voy a eliminar el indice 8, que es un 7, por que es un número y los números no tienen por que estar en el abcdario\n",
    "print(abcdario)"
   ]
  },
  {
   "cell_type": "code",
   "execution_count": 29,
   "id": "49c22a70",
   "metadata": {},
   "outputs": [
    {
     "data": {
      "text/plain": [
       "['Jose', 'Luis', 'Rincon', 'Ortiz']"
      ]
     },
     "execution_count": 29,
     "metadata": {},
     "output_type": "execute_result"
    }
   ],
   "source": [
    "#Como las cadenas son inmutables, las podemos convertir en listas, para poderlas cambiar, esto lo podemos hacer con el metodo split()\n",
    "nombre_completo=\"Jose Luis Rincon Ortiz\"\n",
    "\"Jose Luis Rincon Ortiz\".split()"
   ]
  },
  {
   "cell_type": "code",
   "execution_count": 36,
   "id": "e4100e1e",
   "metadata": {},
   "outputs": [
    {
     "data": {
      "text/plain": [
       "['Laura Carolina Parada Rincon']"
      ]
     },
     "execution_count": 36,
     "metadata": {},
     "output_type": "execute_result"
    }
   ],
   "source": [
    "#También se puede usar el el split para poner un separador entre los datos\n",
    "\"Laura Carolina Parada Rincon\".split(\",\") # de esta manera se eliminan las comas y queda todo en un lista\n",
    "\n"
   ]
  },
  {
   "cell_type": "code",
   "execution_count": 37,
   "id": "dbfbc3c1",
   "metadata": {},
   "outputs": [
    {
     "data": {
      "text/plain": [
       "['LAURA', 'CAROLINA', 'PARADA', 'RINCON']"
      ]
     },
     "execution_count": 37,
     "metadata": {},
     "output_type": "execute_result"
    }
   ],
   "source": [
    "\"LAURA CAROLINA PARADA RINCON\".split()#De esta manera queda separado por listas diferentes"
   ]
  },
  {
   "cell_type": "code",
   "execution_count": 39,
   "id": "1861afc9",
   "metadata": {},
   "outputs": [
    {
     "name": "stdout",
     "output_type": "stream",
     "text": [
      "No Python documentation found for 'Jose Luis Rincon Ortiz'.\n",
      "Use help() to get the interactive help utility.\n",
      "Use help(str) for help on the str class.\n",
      "\n"
     ]
    }
   ],
   "source": [
    "help(nombre_completo)#El comando help ayuda a buscar información sobre una función o sobre un elemento en python"
   ]
  },
  {
   "cell_type": "code",
   "execution_count": 40,
   "id": "c6186a03",
   "metadata": {},
   "outputs": [
    {
     "data": {
      "text/plain": [
       "(2, 3, 4)"
      ]
     },
     "execution_count": 40,
     "metadata": {},
     "output_type": "execute_result"
    }
   ],
   "source": [
    "#ejercicio\n",
    "AB=(1,2,3,4,5)\n",
    "AB[1:4]"
   ]
  },
  {
   "cell_type": "code",
   "execution_count": 42,
   "id": "d6c563cf",
   "metadata": {},
   "outputs": [
    {
     "data": {
      "text/plain": [
       "2"
      ]
     },
     "execution_count": 42,
     "metadata": {},
     "output_type": "execute_result"
    }
   ],
   "source": [
    "#eje4rcicio\n",
    "ABC=[1]\n",
    "ABC.append([2,3,4,5])\n",
    "len(ABC)\n"
   ]
  },
  {
   "cell_type": "markdown",
   "id": "23a51c2e",
   "metadata": {},
   "source": []
  }
 ],
 "metadata": {
  "interpreter": {
   "hash": "04fc3788c23b76e7690e4a8f94f97baaccd63f88ab3a053e1729aa9ad5b22ac6"
  },
  "kernelspec": {
   "display_name": "Python 3.10.9 ('base')",
   "language": "python",
   "name": "python3"
  },
  "language_info": {
   "codemirror_mode": {
    "name": "ipython",
    "version": 3
   },
   "file_extension": ".py",
   "mimetype": "text/x-python",
   "name": "python",
   "nbconvert_exporter": "python",
   "pygments_lexer": "ipython3",
   "version": "3.10.9"
  },
  "toc": {
   "base_numbering": 1,
   "nav_menu": {},
   "number_sections": true,
   "sideBar": true,
   "skip_h1_title": false,
   "title_cell": "Table of Contents",
   "title_sidebar": "Contents",
   "toc_cell": false,
   "toc_position": {
    "height": "calc(100% - 180px)",
    "left": "10px",
    "top": "150px",
    "width": "532px"
   },
   "toc_section_display": true,
   "toc_window_display": true
  }
 },
 "nbformat": 4,
 "nbformat_minor": 5
}
