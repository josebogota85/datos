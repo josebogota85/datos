{
 "cells": [
  {
   "cell_type": "markdown",
   "metadata": {},
   "source": [
    "<h3>Conjuntos</h3>"
   ]
  },
  {
   "cell_type": "markdown",
   "metadata": {},
   "source": [
    "Los conjuntos son un tipo de colección, en la cual se pueden guardar diferentes tipos de datos, este es un tipo de datos desordenados, lo que quiere decir que los conjuntos no registran la posición en que se guardan los elementos, los conjuntos tienen elementos únicos, para definir los conjuntos se usan llaves, sin embargo en este caso no hay claves, veamos un ejemplo"
   ]
  },
  {
   "cell_type": "code",
   "execution_count": 3,
   "metadata": {},
   "outputs": [
    {
     "name": "stdout",
     "output_type": "stream",
     "text": [
      "{'uno', 'cinco', 'dos', 'cuatro', 'seis', 'tres', 'ocho', 'siete'}\n"
     ]
    }
   ],
   "source": [
    "conjunto_1={\"uno\",\"dos\",\"tres\",\"cuatro\",\"cinco\",\"seis\", \"siete\", \"ocho\", \"cinco\"} #Asé se declara un conjunto con llaves y separado por comas\n",
    "print(conjunto_1)#Al imprimir el conjunto, podemos evidenciar dos cosas, la primera es que lo imprime en el orden que el considere, la segunda elimina los registros repetidos y solo de uno"
   ]
  },
  {
   "cell_type": "code",
   "execution_count": null,
   "metadata": {},
   "outputs": [],
   "source": [
    "#Se puede convertir una lista en un conjunto usando la funcion SET()"
   ]
  }
 ],
 "metadata": {
  "interpreter": {
   "hash": "04fc3788c23b76e7690e4a8f94f97baaccd63f88ab3a053e1729aa9ad5b22ac6"
  },
  "kernelspec": {
   "display_name": "Python 3.10.9 ('base')",
   "language": "python",
   "name": "python3"
  },
  "language_info": {
   "codemirror_mode": {
    "name": "ipython",
    "version": 3
   },
   "file_extension": ".py",
   "mimetype": "text/x-python",
   "name": "python",
   "nbconvert_exporter": "python",
   "pygments_lexer": "ipython3",
   "version": "3.10.9"
  },
  "orig_nbformat": 4
 },
 "nbformat": 4,
 "nbformat_minor": 2
}
