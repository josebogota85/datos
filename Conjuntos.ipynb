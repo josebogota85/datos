{
 "cells": [
  {
   "cell_type": "markdown",
   "metadata": {},
   "source": [
    "<h3>Conjuntos</h3>"
   ]
  },
  {
   "cell_type": "markdown",
   "metadata": {},
   "source": [
    "Los conjuntos son un tipo de colección, en la cual se pueden guardar diferentes tipos de datos, este es un tipo de datos desordenados, lo que quiere decir que los conjuntos no registran la posición en que se guardan los elementos, los conjuntos tienen elementos únicos, para definir los conjuntos se usan llaves, sin embargo en este caso no hay claves, veamos un ejemplo"
   ]
  },
  {
   "cell_type": "code",
   "execution_count": 3,
   "metadata": {},
   "outputs": [
    {
     "name": "stdout",
     "output_type": "stream",
     "text": [
      "{'uno', 'cinco', 'dos', 'cuatro', 'seis', 'tres', 'ocho', 'siete'}\n"
     ]
    }
   ],
   "source": [
    "conjunto_1={\"uno\",\"dos\",\"tres\",\"cuatro\",\"cinco\",\"seis\", \"siete\", \"ocho\", \"cinco\"} #Asé se declara un conjunto con llaves y separado por comas\n",
    "print(conjunto_1)#Al imprimir el conjunto, podemos evidenciar dos cosas, la primera es que lo imprime en el orden que el considere, la segunda elimina los registros repetidos y solo de uno"
   ]
  },
  {
   "cell_type": "code",
   "execution_count": 1,
   "metadata": {},
   "outputs": [],
   "source": [
    "#Se puede convertir una lista en un conjunto usando la funcion SET(), a esto se le conoce como casting\n",
    "prueba=[\"uno\", \"dos\", \"tres\", \"cuatro\", \"cinco\", \"seis\", \"siete\"]"
   ]
  },
  {
   "cell_type": "code",
   "execution_count": 9,
   "metadata": {},
   "outputs": [
    {
     "name": "stdout",
     "output_type": "stream",
     "text": [
      "{'cuatro', 'seis', 'dos', 'uno', 'siete', 'cinco', 'tres'}\n"
     ]
    },
    {
     "data": {
      "text/plain": [
       "set"
      ]
     },
     "execution_count": 9,
     "metadata": {},
     "output_type": "execute_result"
    }
   ],
   "source": [
    "prueba_lista=set(prueba) #De esta manera puedo convertir una lista en un conjunto, tengo que asignarselo a otra variable\n",
    "print(prueba_lista)\n",
    "type(prueba_lista)\n"
   ]
  },
  {
   "cell_type": "code",
   "execution_count": 10,
   "metadata": {},
   "outputs": [
    {
     "name": "stdout",
     "output_type": "stream",
     "text": [
      "{'ocho', 'cuatro', 'seis', 'dos', 'uno', 'siete', 'cinco', 'tres'}\n"
     ]
    }
   ],
   "source": [
    "#Podemos usar diferentes operaciones con los conjuntos por ejemplo adicionarle elementos, con el metodo add veamos el ejemplo\n",
    "prueba_lista.add(\"ocho\")\n",
    "print(prueba_lista)"
   ]
  },
  {
   "cell_type": "code",
   "execution_count": 13,
   "metadata": {},
   "outputs": [
    {
     "name": "stdout",
     "output_type": "stream",
     "text": [
      "{'ocho', 'cuatro', 'seis', 'siete', 'cinco', 'tres'}\n"
     ]
    }
   ],
   "source": [
    "#Para eliminar un elemento de un conjunto podemos usar el metodo .remove, veamos el ejemplo\n",
    "prueba_lista.remove(\"dos\") #De este modo se elimina un elemento de un conjunto\n",
    "print(prueba_lista)\n"
   ]
  },
  {
   "cell_type": "code",
   "execution_count": 14,
   "metadata": {},
   "outputs": [
    {
     "data": {
      "text/plain": [
       "True"
      ]
     },
     "execution_count": 14,
     "metadata": {},
     "output_type": "execute_result"
    }
   ],
   "source": [
    "#Para comprobar si hay un elemento dentro de un conjunto puedo usar lo mismo de la lista, el comando in, veamos el siguiente ejemplo\n",
    "\"ocho\" in prueba_lista # de esta manera pruebo si en la lista esta ese elemento"
   ]
  },
  {
   "cell_type": "code",
   "execution_count": 15,
   "metadata": {},
   "outputs": [
    {
     "name": "stdout",
     "output_type": "stream",
     "text": [
      "{18, 12, 6}\n"
     ]
    }
   ],
   "source": [
    "#Podemos mostrar la intersección entre conjunto usando el simbolo &, esto nos mostrará los elementos en común que tienen los conjuntos, veamos ele ejemplo\n",
    "multiplos_3={3,6,9,12,15,18} #multiplos menores de 20\n",
    "multiplos_2={2,4,6,8,10,12,14,16,18,20} #multiplos de 2 hasta de 20\n",
    "multiplos_comunes= multiplos_3 & multiplos_2\n",
    "print(multiplos_comunes)\n"
   ]
  },
  {
   "cell_type": "code",
   "execution_count": 18,
   "metadata": {},
   "outputs": [
    {
     "data": {
      "text/plain": [
       "{2, 3, 4, 6, 8, 9, 10, 12, 14, 15, 16, 18, 20}"
      ]
     },
     "execution_count": 18,
     "metadata": {},
     "output_type": "execute_result"
    }
   ],
   "source": [
    "#Para la opración de unión entre dos conjuntos, podemos usar la funcion union, con esta funcion deberia mostrarme todos los elementos de los dos conjuntos\n",
    "multiplos_3.union(multiplos_2)# de esta manera me va a mostrar todos los elementos de los conjuntos"
   ]
  },
  {
   "cell_type": "code",
   "execution_count": null,
   "metadata": {},
   "outputs": [],
   "source": []
  }
 ],
 "metadata": {
  "interpreter": {
   "hash": "04fc3788c23b76e7690e4a8f94f97baaccd63f88ab3a053e1729aa9ad5b22ac6"
  },
  "kernelspec": {
   "display_name": "Python 3.10.9 ('base')",
   "language": "python",
   "name": "python3"
  },
  "language_info": {
   "codemirror_mode": {
    "name": "ipython",
    "version": 3
   },
   "file_extension": ".py",
   "mimetype": "text/x-python",
   "name": "python",
   "nbconvert_exporter": "python",
   "pygments_lexer": "ipython3",
   "version": "3.10.9"
  },
  "orig_nbformat": 4
 },
 "nbformat": 4,
 "nbformat_minor": 2
}
