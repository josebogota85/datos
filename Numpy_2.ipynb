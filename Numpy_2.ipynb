{
 "cells": [
  {
   "cell_type": "markdown",
   "metadata": {},
   "source": [
    "<h1>En este caso veremos la biblioteca numpy, pero con arreglos de dos dimensiones</h1>"
   ]
  },
  {
   "cell_type": "code",
   "execution_count": 1,
   "metadata": {},
   "outputs": [],
   "source": [
    "import numpy as np\n",
    "#Bueno empecemos\n",
    "lista_1=[[11,12,13],[21,22,23],[31,31,33]] #Acá tenemos declarada tres listas entre una lista\n",
    "matriz_1_2d= np.array(lista_1) #Acá con la ayuda de numpy lo que hacemos es convertir lista en una matriz\n"
   ]
  },
  {
   "cell_type": "code",
   "execution_count": 2,
   "metadata": {},
   "outputs": [
    {
     "data": {
      "text/plain": [
       "9"
      ]
     },
     "execution_count": 2,
     "metadata": {},
     "output_type": "execute_result"
    }
   ],
   "source": [
    "#empecemos a usar los metodos de numpy para obtener información de las matrices\n",
    "matriz_1_2d.ndim #Este metodo nos ayuda a saber las dimensiones de la matriz, recordemos que pueden existir matrices de multiples dimensiones, en este caso solo son dos\n",
    "matriz_1_2d.shape #Este metodo devuelve el número de filas y de columas de la matriz en este caso es una matriz 3 por 3\n",
    "matriz_1_2d.size #Este metodo me muestra el tamaño de la matriz en su totalidad, es decir cuenta los elementos de la matriz"
   ]
  },
  {
   "cell_type": "markdown",
   "metadata": {},
   "source": [
    "Para ingresar a un daro en particular de una matriz 2d podemos usar el indice, hay que tener claro que las filas y las columnas empiezan por cero, voy  aponer una tabla para que haya un ejemplo más grafico\n",
    "<table>\n",
    "      <tr>\n",
    "        <td>[0][0]</td>\n",
    "        <td>[0][1]</td>\n",
    "        <td>[0][2]</td>\n",
    "      </tr>\n",
    "      <tr>\n",
    "        <td>[1][0]</td>\n",
    "        <td>[1][1]</td>\n",
    "        <td>[1][2]</td>\n",
    "      </tr>\n",
    "      <tr>\n",
    "        <td>[2][0]</td>\n",
    "        <td>[2][1]</td>\n",
    "        <td>[2][2]</td>\n",
    "      </tr>\n",
    "    </table>"
   ]
  },
  {
   "cell_type": "markdown",
   "metadata": {},
   "source": []
  },
  {
   "cell_type": "code",
   "execution_count": 3,
   "metadata": {},
   "outputs": [
    {
     "data": {
      "text/plain": [
       "11"
      ]
     },
     "execution_count": 3,
     "metadata": {},
     "output_type": "execute_result"
    }
   ],
   "source": [
    "#llamemos algunos valores de la matriz \n",
    "matriz_1_2d[0][0]"
   ]
  },
  {
   "cell_type": "code",
   "execution_count": 4,
   "metadata": {},
   "outputs": [
    {
     "data": {
      "text/plain": [
       "22"
      ]
     },
     "execution_count": 4,
     "metadata": {},
     "output_type": "execute_result"
    }
   ],
   "source": [
    "#llamemos algunos valores de la matriz \n",
    "matriz_1_2d[1][1]"
   ]
  },
  {
   "cell_type": "code",
   "execution_count": 5,
   "metadata": {},
   "outputs": [
    {
     "data": {
      "text/plain": [
       "array([11, 12])"
      ]
     },
     "execution_count": 5,
     "metadata": {},
     "output_type": "execute_result"
    }
   ],
   "source": [
    "#Podemos también cortar las matrices usando el slicing, aunque es un poco diferente\n",
    "matriz_1_2d[0,0:2] #el primer valor es el de la final, en este caso toda fila 0, el segundo valor es el de las columnas, en este caso la columna de la 0 a la 2, pero recordemos que en el slicing la última no se muestra"
   ]
  },
  {
   "cell_type": "code",
   "execution_count": 6,
   "metadata": {},
   "outputs": [
    {
     "data": {
      "text/plain": [
       "array([13, 23])"
      ]
     },
     "execution_count": 6,
     "metadata": {},
     "output_type": "execute_result"
    }
   ],
   "source": [
    "#Hagamos otro ejemplo\n",
    "matriz_1_2d[0:2,2]"
   ]
  },
  {
   "cell_type": "code",
   "execution_count": 7,
   "metadata": {},
   "outputs": [
    {
     "name": "stdout",
     "output_type": "stream",
     "text": [
      "[[11 12 13]\n",
      " [21 22 23]\n",
      " [31 31 33]]\n",
      "+\n",
      "[[ 2  4  6]\n",
      " [ 8 10 12]\n",
      " [14 16 18]]\n",
      "=\n",
      "[[13 16 19]\n",
      " [29 32 35]\n",
      " [45 47 51]]\n"
     ]
    }
   ],
   "source": [
    "#Usando numpy, podemos sumar matrices luego de declararlas, miremos\n",
    "lista_2=[[2,4,6],[8,10,12],[14,16,18]]\n",
    "matriz_2_2d=np.array(lista_2)\n",
    "matriz_total=matriz_1_2d+matriz_2_2d\n",
    "print(matriz_1_2d)\n",
    "print(        \"+\"        )\n",
    "print(matriz_2_2d)\n",
    "print(        \"=\"        )\n",
    "print(matriz_total)"
   ]
  },
  {
   "cell_type": "code",
   "execution_count": 8,
   "metadata": {},
   "outputs": [
    {
     "name": "stdout",
     "output_type": "stream",
     "text": [
      "[[13 16 19]\n",
      " [29 32 35]\n",
      " [45 47 51]]\n",
      "* 2\n",
      "[[ 26  32  38]\n",
      " [ 58  64  70]\n",
      " [ 90  94 102]]\n"
     ]
    }
   ],
   "source": [
    "#Ahora lo que vamos a hacer es multiplicar una matriz por una escalar, veamos como \n",
    "matriz_multiplicada=2*matriz_total\n",
    "print(matriz_total)\n",
    "print(\"* 2\")\n",
    "print(matriz_multiplicada)"
   ]
  },
  {
   "cell_type": "code",
   "execution_count": 9,
   "metadata": {},
   "outputs": [
    {
     "name": "stdout",
     "output_type": "stream",
     "text": [
      "[[ 26  32  38]\n",
      " [ 58  64  70]\n",
      " [ 90  94 102]]\n",
      "* Hadamard\n",
      "[[13 16 19]\n",
      " [29 32 35]\n",
      " [45 47 51]]\n",
      "resultado\n",
      "[[ 338  512  722]\n",
      " [1682 2048 2450]\n",
      " [4050 4418 5202]]\n"
     ]
    }
   ],
   "source": [
    "#Ahora calculemos una miltiplicación drirecta entre matrices, producto Hadamard\n",
    "matriz_hadamard=matriz_multiplicada*matriz_total\n",
    "print(matriz_multiplicada)\n",
    "print(\"* Hadamard\")\n",
    "print(matriz_total)\n",
    "print(\"resultado\")\n",
    "print(matriz_hadamard)\n"
   ]
  },
  {
   "cell_type": "code",
   "execution_count": 15,
   "metadata": {},
   "outputs": [
    {
     "name": "stdout",
     "output_type": "stream",
     "text": [
      "[[ 2  4  6]\n",
      " [ 8 10 12]]\n",
      "[[5 3]\n",
      " [7 5]\n",
      " [9 8]]\n",
      "[[ 92  74]\n",
      " [218 170]]\n"
     ]
    }
   ],
   "source": [
    "#bueno hagamos una multiplicación de matrices, debemos recordar que para hacer una multiplicacion de matrices, el numero de columnas de la primera matriz, debe ser igual al númerod e filas de la segunda matriz\n",
    "matriz_1=np.array([[2,4,6],[8,10,12]])\n",
    "matriz_2=np.array([[5,3],[7,5],[9,8]])\n",
    "print(matriz_1)\n",
    "print(matriz_2)\n",
    "matriz_multiplicada=np.dot(matriz_1,matriz_2)#Así multiplicamos dos matrices\n",
    "print(matriz_multiplicada)"
   ]
  },
  {
   "cell_type": "code",
   "execution_count": 16,
   "metadata": {},
   "outputs": [
    {
     "data": {
      "text/plain": [
       "0"
      ]
     },
     "execution_count": 16,
     "metadata": {},
     "output_type": "execute_result"
    }
   ],
   "source": [
    "a=np.array([0,1])\n",
    "b=np.array([1,0])\n",
    "np.dot(a,b) "
   ]
  },
  {
   "cell_type": "code",
   "execution_count": 17,
   "metadata": {},
   "outputs": [
    {
     "data": {
      "text/plain": [
       "array([0, 1])"
      ]
     },
     "execution_count": 17,
     "metadata": {},
     "output_type": "execute_result"
    }
   ],
   "source": [
    "\n",
    "X=np.array([[1,0,1],[2,2,2]]) \n",
    "out=X[0,1:3] #Rfecuerda que acá lo que hacemos es, como cortar la matriz, seleccionamos la primera fila y las columnas 2 y 3\n",
    "out\n"
   ]
  },
  {
   "cell_type": "code",
   "execution_count": 20,
   "metadata": {},
   "outputs": [
    {
     "name": "stdout",
     "output_type": "stream",
     "text": [
      "[[2 2]\n",
      " [2 2]]\n"
     ]
    }
   ],
   "source": [
    "X=np.array([[1,0],[0,1]])\n",
    "Y=np.array([[2,2],[2,2]])\n",
    "Z=np.dot(X,Y)\n",
    "print(Z)"
   ]
  },
  {
   "cell_type": "code",
   "execution_count": null,
   "metadata": {},
   "outputs": [],
   "source": []
  }
 ],
 "metadata": {
  "interpreter": {
   "hash": "04fc3788c23b76e7690e4a8f94f97baaccd63f88ab3a053e1729aa9ad5b22ac6"
  },
  "kernelspec": {
   "display_name": "Python 3.10.9 ('base')",
   "language": "python",
   "name": "python3"
  },
  "language_info": {
   "codemirror_mode": {
    "name": "ipython",
    "version": 3
   },
   "file_extension": ".py",
   "mimetype": "text/x-python",
   "name": "python",
   "nbconvert_exporter": "python",
   "pygments_lexer": "ipython3",
   "version": "3.10.9"
  },
  "orig_nbformat": 4
 },
 "nbformat": 4,
 "nbformat_minor": 2
}
