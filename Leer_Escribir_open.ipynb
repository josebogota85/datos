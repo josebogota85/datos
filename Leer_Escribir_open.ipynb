{
 "cells": [
  {
   "cell_type": "markdown",
   "metadata": {},
   "source": [
    "<h1>Leer y escribir archivos con open</h1>\n",
    "<h2>Esto es totalmente desconocido para mi, lo digo por el nombre por que apenas voy a empezar, pero bueno con toda, hasta la programación orientada a objetos que vi ayer, creo que lo habia visto en algún momento, pero esto, definitivamente, no.</h2>\n"
   ]
  },
  {
   "cell_type": "code",
   "execution_count": 1,
   "metadata": {},
   "outputs": [],
   "source": [
    "#Bueno al parecer de lo que se trata es traer información de un archivo externo, como un url o algo así y poder usar esta información, vamos a ver...\n",
    "#Primero declaramos una variable, y ella usamos la función open(), dentro del open ponemos la url donde esta ubicado el archivo\n",
    "#Cree un archivo .txt desde la terminal de MAC, se hace de la siguiente manera touch archivo_ejemplo.txt y touch y el nombre del archivo\n",
    "#Luego le puse algo dentro también por consola usando el siguiente comando echo \"Vamos a ver si funciona por que la consola siempre me toma del pelo\" >> archivo_ejemplo.txt\n",
    "cita=open(\"/Users/joseluisrinconortiz/datos/archivo_ejemplo.txt\",\"r\")#La primera parte des la variable (cita), la segunda parte es la funcion (open()), la tercera parte es la ruta (\"/Users/joseluisrinconortiz/datos/archivo_ejemplo.txt\")\n",
    "#La cuarta parte que esta entre parentesis \"W\", es la manera en que se va a abrir el documento, en este caso es para leer y aditar."
   ]
  },
  {
   "cell_type": "markdown",
   "metadata": {},
   "source": [
    "\"r\"= Es para leer\n",
    "\"w\"= Es para escribir en el archivo\n",
    "\"a\"= Para agregar\n",
    "Podemos usar ciertos atributos para ver información del archivo, por ejemplo cita.name= me muestra la ruta del archivo\n",
    "                                                                             cita.mode= me muestra en que modo esta siendo usado el atributo\n",
    "                                                                             "
   ]
  },
  {
   "cell_type": "code",
   "execution_count": 2,
   "metadata": {},
   "outputs": [
    {
     "data": {
      "text/plain": [
       "'/Users/joseluisrinconortiz/datos/archivo_ejemplo.txt'"
      ]
     },
     "execution_count": 2,
     "metadata": {},
     "output_type": "execute_result"
    }
   ],
   "source": [
    "cita.name #vemos la ruta del archivo"
   ]
  },
  {
   "cell_type": "code",
   "execution_count": 4,
   "metadata": {},
   "outputs": [
    {
     "data": {
      "text/plain": [
       "'r'"
      ]
     },
     "execution_count": 4,
     "metadata": {},
     "output_type": "execute_result"
    }
   ],
   "source": [
    "cita.mode #vemos el modo en que esta archivo \"r\", \"w\" o \"a\""
   ]
  },
  {
   "cell_type": "code",
   "execution_count": 5,
   "metadata": {},
   "outputs": [],
   "source": [
    "cita.close()#Este metodo me ayuda a cerrar el archivo"
   ]
  },
  {
   "cell_type": "markdown",
   "metadata": {},
   "source": [
    "Sí resulta tedioso a veces cerrar el archivo, entonces se puede usar una función que se llama white, es super complejo pero lo intentare\n"
   ]
  },
  {
   "cell_type": "markdown",
   "metadata": {},
   "source": [
    "Se lee así:\n",
    "with open(\"archivo_ejemplo.txt\",\"r\") as cita:       - Abre el archivo que se llama(\"nombre.txt\", \"r (leeelo)\") que esta en cita\n",
    "    file_stuff=cita.read()                          - Crea una variable que se llame file_stuf, donde guardes lo que se leyo en el archivo\n",
    "    print(file_stuff)                               - Imprime lo que se leyo en la variable anterior\n",
    "\n",
    "print(cita.closed)                                  - Cierra el archivo\n",
    "print(file_stuff)                                   - La variable ya quedo con el contenido dentro."
   ]
  },
  {
   "cell_type": "code",
   "execution_count": 7,
   "metadata": {},
   "outputs": [
    {
     "name": "stdout",
     "output_type": "stream",
     "text": [
      "Vamos a ver si funciona por que la consola siempre me toma del pelo\n",
      "\n",
      "True\n",
      "Vamos a ver si funciona por que la consola siempre me toma del pelo\n",
      "\n"
     ]
    }
   ],
   "source": [
    "with open(\"archivo_ejemplo.txt\",\"r\") as cita: # bueno como se lee es así, \n",
    "    file_stuff=cita.read()\n",
    "    print(file_stuff)\n",
    "\n",
    "print(cita.closed)\n",
    "print(file_stuff)"
   ]
  },
  {
   "cell_type": "code",
   "execution_count": 8,
   "metadata": {},
   "outputs": [
    {
     "name": "stdout",
     "output_type": "stream",
     "text": [
      "Vamos a ver si funciona por que la consola siempre me toma del pelo\n",
      "Se supone que esta es una nueva linea\n",
      "Y esta sería otra\n",
      "Y acá va la última solo para este ejercicio\n",
      "Ok, una más\n",
      "Si puedo\n",
      "\n",
      "True\n",
      "Vamos a ver si funciona por que la consola siempre me toma del pelo\n",
      "Se supone que esta es una nueva linea\n",
      "Y esta sería otra\n",
      "Y acá va la última solo para este ejercicio\n",
      "Ok, una más\n",
      "Si puedo\n",
      "\n"
     ]
    }
   ],
   "source": [
    "with open(\"archivo_ejemplo.txt\",\"r\") as cita: # bueno como se lee es así, \n",
    "    file_stuff=cita.read()\n",
    "    print(file_stuff)\n",
    "\n",
    "print(cita.closed)\n",
    "print(file_stuff)"
   ]
  },
  {
   "cell_type": "markdown",
   "metadata": {},
   "source": [
    "Agregue más contenido al texto para poder hacer el ejercicio, veamos como podemos traer el contenido, valga la redundancia"
   ]
  },
  {
   "cell_type": "code",
   "execution_count": 12,
   "metadata": {},
   "outputs": [
    {
     "data": {
      "text/plain": [
       "'Vamos a ver si funciona por que la consola siempre me toma del pelo\\nSe supone que esta es una nueva linea\\nY esta sería otra\\nY acá va la última solo para este ejercicio\\nOk, una más\\nSi puedo\\n'"
      ]
     },
     "execution_count": 12,
     "metadata": {},
     "output_type": "execute_result"
    }
   ],
   "source": [
    "file_stuff #Así python lo imprime directo, los slash son los que se interpretan como una nueva liínea"
   ]
  },
  {
   "cell_type": "code",
   "execution_count": 9,
   "metadata": {},
   "outputs": [
    {
     "name": "stdout",
     "output_type": "stream",
     "text": [
      "Vamos a ver si funciona por que la consola siempre me toma del pelo\n",
      "Se supone que esta es una nueva linea\n",
      "Y esta sería otra\n",
      "Y acá va la última solo para este ejercicio\n",
      "Ok, una más\n",
      "Si puedo\n",
      "\n"
     ]
    }
   ],
   "source": [
    "print(file_stuff) #Así python lo imprime con un print"
   ]
  },
  {
   "cell_type": "code",
   "execution_count": 13,
   "metadata": {},
   "outputs": [
    {
     "name": "stdout",
     "output_type": "stream",
     "text": [
      "['Vamos a ver si funciona por que la consola siempre me toma del pelo\\n', 'Se supone que esta es una nueva linea\\n', 'Y esta sería otra\\n', 'Y acá va la última solo para este ejercicio\\n', 'Ok, una más\\n', 'Si puedo\\n']\n"
     ]
    }
   ],
   "source": [
    "#Podemos mostrar el contenido por cada linea, creando una lista, veamos\n",
    "with open(\"archivo_ejemplo.txt\",\"r\") as cita:\n",
    "    file_stuff=cita.readlines()\n",
    "    print(file_stuff)"
   ]
  },
  {
   "cell_type": "markdown",
   "metadata": {},
   "source": [
    "Así es como se lee:\n",
    "with open(\"archivo_ejemplo.txt\",\"r\") as cita:      - Primero con la funcion with open se le pide que lea (\"nombre de archivo\", \"r\"(leer)) que esta (as) en la variable (cita)\n",
    "    file_stuff=cita.readlines()                    - Luego se le pide que lea lo que esta en la variable (cita), y lo haga por lineas (readlines() metodo que crea una lista) y que lo guarde en file_stuff\n",
    "    print(file_stuff)                              - Por ultimo se le pide que imprima file_stuff"
   ]
  },
  {
   "cell_type": "code",
   "execution_count": 18,
   "metadata": {},
   "outputs": [
    {
     "name": "stdout",
     "output_type": "stream",
     "text": [
      "['Vamos a ver si funciona por que la consola siempre me toma del pelo\\n']\n"
     ]
    }
   ],
   "source": [
    "#Si le ponemos un argumento a readlines el traera solo la cantidad de caracteres que se le indique\n",
    "with open(\"archivo_ejemplo.txt\",\"r\") as cita:\n",
    "    file_stuff=cita.readlines()\n",
    "    print(file_stuff)"
   ]
  },
  {
   "cell_type": "markdown",
   "metadata": {},
   "source": [
    "<h1>Ahora veremos como se escribe en los archivos con el metodo open \"w\"<h1>"
   ]
  },
  {
   "cell_type": "code",
   "execution_count": 25,
   "metadata": {},
   "outputs": [],
   "source": [
    "cita_2=open(\"/Users/joseluisrinconortiz/datos/archivo_ejemplo.txt\",\"w\")#Recordemos que si el segundo argumento es w, quiere decir que puedo escribir en el archivo ojo por que esto me crea un nuevo archivo \n",
    "# y si pongo el mismo nombre del archivo anterior lo sobre escribe, sieento que esto es parecido a crear un archivo de texto desde la consola\n",
    "with open(\"/Users/joseluisrinconortiz/datos/archivo_ejemplo2.txt\",\"w\") as cita_2:\n",
    "    cita_2.write(\"1. Este es mi primer cambio en el archivo desde python y sería mi primera línea \\n\") #De esta manera ingreso lo que quiero escribir en el archivo, ojo, funciona\n",
    "    cita_2.write(\"2. Voy a hacer la prueba de si funciona con una segunda linea, debería servir \\n\") #Si funciona pero uno debe crear el salto de linea \\\n",
    "#Nunca habia hecho esto pero me encanto, super \n",
    "\n",
    "\n"
   ]
  },
  {
   "cell_type": "code",
   "execution_count": 26,
   "metadata": {},
   "outputs": [],
   "source": [
    "#Bueno ojito acá por que vamos a usar un ciclo para escribir una linea de una lista en un guion n uevo.\n",
    "#Primero creamos la lista\n",
    "soportes=[\"Hoja de vida\\n\", \"cédula\\n\", \"diplomas\\n\", \"experiencia\\n\"] #se genera la lista\n",
    "with open(\"/Users/joseluisrinconortiz/datos/archivo_ejemplo2.txt\",\"w\") as cita_2: # Se abre el documentos con \"w\" \n",
    "    for soporte in soportes: #Se hace un ciclo que recorra la lista\n",
    "        cita_2.write(soporte) #Se imprimme cada elemento de la lista en un guión\n",
    "        \n"
   ]
  },
  {
   "cell_type": "markdown",
   "metadata": {},
   "source": [
    "<h1>Ahora veremos como se anexa en los archivos con el metodo open \"a\"<h1>"
   ]
  },
  {
   "cell_type": "code",
   "execution_count": 27,
   "metadata": {},
   "outputs": [],
   "source": [
    "#\"a\" sirve para no crear un archivo nuevo sino para alimentar uno que ya existe \n",
    "with open(\"/Users/joseluisrinconortiz/datos/archivo_ejemplo.txt\",\"a\") as cita:\n",
    "    cita.write(\"Alimentemos de nuevo este archivo que no tiene nada\")"
   ]
  },
  {
   "cell_type": "code",
   "execution_count": 32,
   "metadata": {},
   "outputs": [],
   "source": [
    "#Este esta mas dificil todavia, por que vamos a copiar un archivo a un archivo nuevo\n",
    "with open(\"/Users/joseluisrinconortiz/datos/archivo_ejemplo.txt\",\"r\") as cita_3: #Abrimos el archivo viejo como solo lectura \"r\"\n",
    "    with open(\"/Users/joseluisrinconortiz/datos/archivo_ejemplo3.txt\",\"w\") as cita_4: #Abrimos el archivo nuevo como escritura \"w\"\n",
    "        for line in cita_3: #Recorremos cada una de las lineas dentro del archivo antiguo\n",
    "            cita_4.write(line) #Ahora la vamos pegando en el nuevo archivo\n"
   ]
  },
  {
   "cell_type": "code",
   "execution_count": null,
   "metadata": {},
   "outputs": [],
   "source": []
  }
 ],
 "metadata": {
  "interpreter": {
   "hash": "04fc3788c23b76e7690e4a8f94f97baaccd63f88ab3a053e1729aa9ad5b22ac6"
  },
  "kernelspec": {
   "display_name": "Python 3.10.9 ('base')",
   "language": "python",
   "name": "python3"
  },
  "language_info": {
   "codemirror_mode": {
    "name": "ipython",
    "version": 3
   },
   "file_extension": ".py",
   "mimetype": "text/x-python",
   "name": "python",
   "nbconvert_exporter": "python",
   "pygments_lexer": "ipython3",
   "version": "3.10.9"
  },
  "orig_nbformat": 4
 },
 "nbformat": 4,
 "nbformat_minor": 2
}
