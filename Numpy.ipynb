{
 "cells": [
  {
   "cell_type": "markdown",
   "metadata": {},
   "source": [
    "<h1>Numpy, esta es otra librería super importantem, esta es la que se encarga de todo lo que tiene que ver con las operaciones matemáticas, es una libre ría cientifica</h1>\n",
    "<h2>Jamás la he visto, pero me causa mucha motivación, ojalá no me de tan duro</h2>"
   ]
  },
  {
   "cell_type": "code",
   "execution_count": 6,
   "metadata": {},
   "outputs": [],
   "source": [
    "#Antes de importar numpy, es pertinente instalarlo, usando pip install numpy, en la consola\n",
    "import numpy as np #De esta manera no solo importamos numpy sino que imporetamos las listas np\n",
    "#Lo primero que vamos a hacer es crear una matriz con Numpy\n",
    "#Matriz ND es parecida a una lista, solo que esta tiene un tamaño fijo y sus elementos son del mismo tipo\n"
   ]
  },
  {
   "cell_type": "code",
   "execution_count": 7,
   "metadata": {},
   "outputs": [],
   "source": [
    "lista_np=np.array([0,1,2,3,4,5,6,7,8,9]) #De esta manera se lanza una lista "
   ]
  },
  {
   "cell_type": "code",
   "execution_count": 8,
   "metadata": {},
   "outputs": [
    {
     "data": {
      "text/plain": [
       "4"
      ]
     },
     "execution_count": 8,
     "metadata": {},
     "output_type": "execute_result"
    }
   ],
   "source": [
    "#Podemos llamar los elementos de estos arreglos usansdo el indice como las listas\n",
    "lista_np[4]"
   ]
  },
  {
   "cell_type": "code",
   "execution_count": 9,
   "metadata": {},
   "outputs": [
    {
     "data": {
      "text/plain": [
       "numpy.ndarray"
      ]
     },
     "execution_count": 9,
     "metadata": {},
     "output_type": "execute_result"
    }
   ],
   "source": [
    "#Miremos que tipo de elemento me muestra este arreglo\n",
    "type(lista_np) # me muestra que es numpy.ndarray"
   ]
  },
  {
   "cell_type": "code",
   "execution_count": 10,
   "metadata": {},
   "outputs": [
    {
     "data": {
      "text/plain": [
       "dtype('int64')"
      ]
     },
     "execution_count": 10,
     "metadata": {},
     "output_type": "execute_result"
    }
   ],
   "source": [
    "#Para saber el tipo de dato que tiene la Matriz, podemos usar el siguiente metodo\n",
    "lista_np.dtype #nos va a mostrar que el arreglo tiene enteeros de 64 bits"
   ]
  },
  {
   "cell_type": "code",
   "execution_count": 11,
   "metadata": {},
   "outputs": [
    {
     "data": {
      "text/plain": [
       "10"
      ]
     },
     "execution_count": 11,
     "metadata": {},
     "output_type": "execute_result"
    }
   ],
   "source": [
    "#Para ver el tamaño de la matriz, podemos usar el metodo size\n",
    "lista_np.size "
   ]
  },
  {
   "cell_type": "code",
   "execution_count": 12,
   "metadata": {},
   "outputs": [
    {
     "data": {
      "text/plain": [
       "1"
      ]
     },
     "execution_count": 12,
     "metadata": {},
     "output_type": "execute_result"
    }
   ],
   "source": [
    "#Para vevr el numero de dimensiones que tiene la matriz, usamos el metodo .ndim\n",
    "lista_np.ndim #En te caso esta matriz es de una dimensión por eso imprime el 1"
   ]
  },
  {
   "cell_type": "code",
   "execution_count": 13,
   "metadata": {},
   "outputs": [
    {
     "data": {
      "text/plain": [
       "(10,)"
      ]
     },
     "execution_count": 13,
     "metadata": {},
     "output_type": "execute_result"
    }
   ],
   "source": [
    "#PAra ver el numero dee atributos por dimensión usamos el atributo .shape\n",
    "lista_np.shape #como este solo tiene una dimensión pues solo me mostrará el número de la primera dimensión, lo muestra en forma de tupla"
   ]
  },
  {
   "cell_type": "code",
   "execution_count": 14,
   "metadata": {},
   "outputs": [
    {
     "name": "stdout",
     "output_type": "stream",
     "text": [
      "<class 'numpy.ndarray'>\n",
      "float64\n",
      "10\n",
      "1\n",
      "(10,)\n"
     ]
    }
   ],
   "source": [
    "#También se puede crear una matriz usando números decimales, voy a combinar acá los metodos aprendidos para ver los resultados  de una vez, todos\n",
    "decimales=np.array([0.5, 1.5, 2.5 ,3.5 ,4.5 ,5.5 ,6.5 ,7.5 ,8.5 ,9.5])\n",
    "print(type(decimales))\n",
    "print(decimales.dtype)\n",
    "print(decimales.size)\n",
    "print(decimales.ndim)\n",
    "print(decimales.shape)"
   ]
  },
  {
   "cell_type": "code",
   "execution_count": 17,
   "metadata": {},
   "outputs": [
    {
     "name": "stdout",
     "output_type": "stream",
     "text": [
      "[0.2 1.5 2.5 3.5 4.5 5.5 6.5 7.5 8.5 9.5]\n"
     ]
    }
   ],
   "source": [
    "decimales[0]=1/5 #De esta manera podemos cambiar el primer elemento de la matriz\n",
    "print(decimales)"
   ]
  },
  {
   "cell_type": "code",
   "execution_count": 20,
   "metadata": {},
   "outputs": [
    {
     "name": "stdout",
     "output_type": "stream",
     "text": [
      "[0.2 1.5 2.5 3.5 4.5 5.5 6.5 7.5 8.5 1.5]\n"
     ]
    }
   ],
   "source": [
    "decimales[9]=9/6 #Acá estamos cambiando el último valor de la matriz\n",
    "print(decimales)"
   ]
  },
  {
   "cell_type": "code",
   "execution_count": 34,
   "metadata": {},
   "outputs": [
    {
     "name": "stdout",
     "output_type": "stream",
     "text": [
      "[0.2 1.5 2.5 3.5 4.5]\n",
      "[0.2 1.5 2.5 3.5 4.5]\n"
     ]
    }
   ],
   "source": [
    "#También podemos recortar una parte de la matriz usando slicings\n",
    "decimales_1=decimales[0:5]\n",
    "print(decimales_1)\n",
    "type(decimales)\n",
    "print(decimales_1)"
   ]
  },
  {
   "cell_type": "markdown",
   "metadata": {},
   "source": [
    "<h2>Operaciones básicas con Numpy</h2>\n",
    "<h3>Bueno ahora vamos a ver como podemos operar los matrices que creamos, creo que esas matrices, se llaman en otros lenguajes arreglos, pero al parecer sirven para lo mismo, es solo una hipotesis no se fien</h3>"
   ]
  },
  {
   "cell_type": "markdown",
   "metadata": {},
   "source": [
    "#Bueno al parecer vamos a usar la suma de vectores para este ejercicio, rcomiendo estudiar un poco, la recomendación es para mi :D"
   ]
  },
  {
   "cell_type": "code",
   "execution_count": 45,
   "metadata": {},
   "outputs": [
    {
     "name": "stdout",
     "output_type": "stream",
     "text": [
      "[1, -1]\n"
     ]
    }
   ],
   "source": [
    "u=[1,0] #Este es el valor en coordenadas para el primer vector\n",
    "v=[0,1] #Este es el segundo vector\n",
    "#PAra hayas el vector z debemos unir la cabeza del primer vector con la cola del sgundo\n",
    "z=[]#Aún no sabemos el valor de este vector\n",
    "for n, m in zip(u,v):\n",
    "    z.append(n-m) #esta es la forma de unir dos vectores sin usar numpu\n",
    "\n",
    "print(z)"
   ]
  },
  {
   "cell_type": "code",
   "execution_count": 46,
   "metadata": {},
   "outputs": [
    {
     "name": "stdout",
     "output_type": "stream",
     "text": [
      "[1 1]\n"
     ]
    }
   ],
   "source": [
    "#Ahora uysemos numpy para sumar los vectores si vemos usando numpy la cosa es mucho más rápida pero también más facil de hacer\n",
    "c=np.array([1,0])\n",
    "d=np.array([0,1])\n",
    "x=c+d\n",
    "print(x)"
   ]
  },
  {
   "cell_type": "code",
   "execution_count": 47,
   "metadata": {},
   "outputs": [
    {
     "name": "stdout",
     "output_type": "stream",
     "text": [
      "[ 1 -1]\n"
     ]
    }
   ],
   "source": [
    "#También podemos hacer la resta vectorial solo cambiando el simbolo, vamos a ver\n",
    "e=np.array([1,0])\n",
    "f=np.array([0,1])\n",
    "g=e-f\n",
    "print(g)"
   ]
  },
  {
   "cell_type": "code",
   "execution_count": 48,
   "metadata": {},
   "outputs": [
    {
     "name": "stdout",
     "output_type": "stream",
     "text": [
      "[2 4]\n"
     ]
    }
   ],
   "source": [
    "#Veamos ahora como podemos multiplicar un vector por una escalar\n",
    "vector_1=np.array([1,2]) #Ojo recuerda que para declarar un matriz, se debe declarar el vector, seguido por np.array y el valor del vector\n",
    "vector_doble=2*vector_1\n",
    "print(vector_doble)"
   ]
  },
  {
   "cell_type": "code",
   "execution_count": 49,
   "metadata": {},
   "outputs": [
    {
     "name": "stdout",
     "output_type": "stream",
     "text": [
      "[40 63]\n"
     ]
    }
   ],
   "source": [
    "#Bueno ahora tambien vamos a poder calcular el producto de HAdamard de dos matrices. ojo que solo se puede hacer si las matrices son del mismo tamaño\n",
    "vector1=np.array([5,7]) #Este es el valor del primer vector\n",
    "vector2=np.array([8,9]) #Este es el valor del segundo vector\n",
    "vector_hadamar=vector1*vector2\n",
    "print(vector_hadamar)\n"
   ]
  },
  {
   "cell_type": "code",
   "execution_count": 52,
   "metadata": {},
   "outputs": [
    {
     "name": "stdout",
     "output_type": "stream",
     "text": [
      "5\n"
     ]
    }
   ],
   "source": [
    "#Bueno ahora vamos a ver como se hace el producto punto con numpy, ojo que el producto punto el la multiplicación de cada uno de los \n",
    "#elementos de las dos matrices (en este caso), y la suma de esos productos, por lo tanto debe dar una escalar, otra cosa que aprendí es que\n",
    "#dot en espaol es punto\n",
    "#Veamos como se hace\n",
    "vector1_1=np.array([1,2]) #Declaramos el primer vector\n",
    "vector1_2=np.array([3,1]) #Declaramos el segundo vector\n",
    "producto_punt=np.dot(vector1_1,vector1_2) #Usamos un metodo de numpy para calcular el producto punto de lso vectores\n",
    "print(producto_punt) #imprimimos la escalar resultante\n",
    "\n",
    "\n"
   ]
  },
  {
   "cell_type": "code",
   "execution_count": 54,
   "metadata": {},
   "outputs": [
    {
     "name": "stdout",
     "output_type": "stream",
     "text": [
      "[ 1  2  3  4  5  6  7  8  9 10]\n"
     ]
    }
   ],
   "source": [
    "#Tambien puedo agregar una constante a un arreglo de la siguiente maanera\n",
    "arreglo=np.array([0,1,2,3,4,5,6,7,8,9]) #Definimos el arreglo\n",
    "arreglo_sumado=arreglo+1 #Usamos esta sentencia para agrgarle una escalar a cada elemento del arreglo y lo guardamos en una variable nueva\n",
    "print(arreglo_sumado) #Imprimimos la nueva variable"
   ]
  },
  {
   "cell_type": "code",
   "execution_count": null,
   "metadata": {},
   "outputs": [],
   "source": [
    "#"
   ]
  }
 ],
 "metadata": {
  "interpreter": {
   "hash": "04fc3788c23b76e7690e4a8f94f97baaccd63f88ab3a053e1729aa9ad5b22ac6"
  },
  "kernelspec": {
   "display_name": "Python 3.10.9 ('base')",
   "language": "python",
   "name": "python3"
  },
  "language_info": {
   "codemirror_mode": {
    "name": "ipython",
    "version": 3
   },
   "file_extension": ".py",
   "mimetype": "text/x-python",
   "name": "python",
   "nbconvert_exporter": "python",
   "pygments_lexer": "ipython3",
   "version": "3.10.9"
  },
  "orig_nbformat": 4
 },
 "nbformat": 4,
 "nbformat_minor": 2
}
