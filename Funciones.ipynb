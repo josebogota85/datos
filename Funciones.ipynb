{
 "cells": [
  {
   "cell_type": "markdown",
   "metadata": {},
   "source": [
    "<H2>FUNCIONES</H2>"
   ]
  },
  {
   "cell_type": "markdown",
   "metadata": {},
   "source": [
    "Siempre quedo acá, es un punto de inflexión, tengo que seguir, ya pase los ciclos, entonces esto no me va a asustar, vamos con toda."
   ]
  },
  {
   "cell_type": "markdown",
   "metadata": {},
   "source": [
    "Una función es un fragmento de código en el cual ingreso un dato y produzco un resultado, la ventaja de las funciones es que me ayuda a no repetir mucho código, por que estas las puedo usar siempre que sea necesaria\n",
    "Puedo imprementar mi propia función. o una función que venga por default en python\n",
    "- Las funciones pueden aceptar uno o varios argumentos de entrada\n",
    "- Son reutilizables (cada que quiera las puedo usar)\n",
    "- Siempre devuelve un resultado\n",
    "- las funciones se definene con la palabra clave def\n",
    "- despúés de def, sigue el nombre de la variable\n",
    "- luego del nombre siguen parentesis, y dentro de ellos se incluyen los argumentos de entrada\n",
    "- El codigo de la función se escribe con sangria, es decir movido hacía la derecha\n",
    "- Para llamar la función desde otro lado se usa el nombre de la función y los parentesis con argumentos, si los hay"
   ]
  },
  {
   "cell_type": "code",
   "execution_count": 3,
   "metadata": {},
   "outputs": [],
   "source": [
    "#Veamos un ejemplo de una función super simple\n",
    "def suma(a, b):\n",
    "    resultado = a+b\n",
    "    return resultado\n",
    "\n",
    "#Esta función se llama suma y tiene dos argumentos, a y b (que son variables), dentro de la función se hace una suma, y se guarda en la variable resultado, y luego, con return muestro esa variable\n"
   ]
  },
  {
   "cell_type": "code",
   "execution_count": 5,
   "metadata": {},
   "outputs": [
    {
     "name": "stdout",
     "output_type": "stream",
     "text": [
      "43\n"
     ]
    }
   ],
   "source": [
    "dio=suma(10,33) #Llamo la función y la guardo en una variable que se llama dio\n",
    "print(dio) #ahora imprimo la variable, para ver el resultado"
   ]
  },
  {
   "cell_type": "code",
   "execution_count": 8,
   "metadata": {},
   "outputs": [],
   "source": [
    "#Este es un ejercicio\n",
    "def es_par(numero):\n",
    "    if numero%2==0:\n",
    "        return True\n",
    "    else:\n",
    "        return False"
   ]
  },
  {
   "cell_type": "code",
   "execution_count": 7,
   "metadata": {},
   "outputs": [
    {
     "name": "stdout",
     "output_type": "stream",
     "text": [
      "False\n",
      "None\n"
     ]
    }
   ],
   "source": [
    "siete=es_par(7)\n",
    "print(siete)"
   ]
  },
  {
   "cell_type": "code",
   "execution_count": 9,
   "metadata": {},
   "outputs": [
    {
     "name": "stdout",
     "output_type": "stream",
     "text": [
      "False\n"
     ]
    }
   ],
   "source": [
    "numero=int(input(\"Es o no es par\"))\n",
    "define=es_par(numero)\n",
    "print(define)"
   ]
  },
  {
   "cell_type": "code",
   "execution_count": 10,
   "metadata": {},
   "outputs": [
    {
     "data": {
      "text/plain": [
       "10"
      ]
     },
     "execution_count": 10,
     "metadata": {},
     "output_type": "execute_result"
    }
   ],
   "source": [
    "#La función Len() toma cualquier arreglo o colección de elementos y regresa la lonmgitud del arreglo\n",
    "#Ejemplo\n",
    "abcedario=[\"a\", \"b\" ,\"c\", \"d\", \"e\", \"f\", \"g\", \"h\", \"i\", \"j\"]\n",
    "len(abcedario)"
   ]
  },
  {
   "cell_type": "code",
   "execution_count": 12,
   "metadata": {},
   "outputs": [
    {
     "data": {
      "text/plain": [
       "45"
      ]
     },
     "execution_count": 12,
     "metadata": {},
     "output_type": "execute_result"
    }
   ],
   "source": [
    "#La función sum() nos ayuda a sumar lo que haya dentro de un arreglo de datos numericos, ejemplo\n",
    "digitos=[0,1,2,3,4,5,6,7,8,9]\n",
    "sum(digitos)"
   ]
  },
  {
   "cell_type": "code",
   "execution_count": 14,
   "metadata": {},
   "outputs": [
    {
     "data": {
      "text/plain": [
       "1"
      ]
     },
     "execution_count": 14,
     "metadata": {},
     "output_type": "execute_result"
    }
   ],
   "source": [
    "#Mezclemos las dos funcioens que acabamos de aprender\n",
    "len([sum(digitos)])"
   ]
  },
  {
   "cell_type": "code",
   "execution_count": 19,
   "metadata": {},
   "outputs": [
    {
     "name": "stdout",
     "output_type": "stream",
     "text": [
      "(1, 0, 2, 8, 7, 5, 6, 4, 9, 3)\n",
      "[0, 1, 2, 3, 4, 5, 6, 7, 8, 9]\n"
     ]
    }
   ],
   "source": [
    "#La funcion sorted, sirve para ordenar una lista o una tupla\n",
    "digitos=(1,0,2,8,7,5,6,4,9,3)\n",
    "sorted(digitos) \n",
    "print(digitos)\n",
    "print(sorted(digitos))#En esta parte del código la función ordena la tupla, cuando usamos, podemos ver que usando esta funcion no se modfica la primera lista."
   ]
  },
  {
   "cell_type": "code",
   "execution_count": 21,
   "metadata": {},
   "outputs": [
    {
     "name": "stdout",
     "output_type": "stream",
     "text": [
      "None\n",
      "[0, 1, 2, 3, 4, 5, 6, 7, 8, 9]\n"
     ]
    }
   ],
   "source": [
    "#Usando el metodo .sort(), que también sirve para ordenar, sin embargo, a diferencia de la fiunción, este metodo si modifica la tupla\n",
    "digitos_1=[0,1,3,5,7,8,2,9,4,6]\n",
    "print(digitos_1.sort())\n",
    "print(digitos_1) #Acá vemos como se ordena la lista y saea guarda en la misma lista.\n"
   ]
  },
  {
   "cell_type": "markdown",
   "metadata": {},
   "source": [
    "<h3>Construir nuestras propias funciones</h3>\n"
   ]
  },
  {
   "cell_type": "code",
   "execution_count": 22,
   "metadata": {},
   "outputs": [],
   "source": [
    "#Veamos un ejemplo de una función construida.\n",
    "def add1(a):#Esta función le agrega un uno a cualquier datos dentro de una variable, esta es una función un parametro, pero pueden hacerse funciones con multiples parametros\n",
    "    b=a+1\n",
    "    return b"
   ]
  },
  {
   "cell_type": "code",
   "execution_count": 24,
   "metadata": {},
   "outputs": [
    {
     "data": {
      "text/plain": [
       "38"
      ]
     },
     "execution_count": 24,
     "metadata": {},
     "output_type": "execute_result"
    }
   ],
   "source": [
    "add1(37)#Acá llamamos a función anterior"
   ]
  },
  {
   "cell_type": "code",
   "execution_count": 25,
   "metadata": {},
   "outputs": [
    {
     "data": {
      "text/plain": [
       "945"
      ]
     },
     "execution_count": 25,
     "metadata": {},
     "output_type": "execute_result"
    }
   ],
   "source": [
    "#Esta función tiene mas argumentos y servira para multiplicar\n",
    "def Multi(num1, num2):\n",
    "    producto=num1*num2\n",
    "    return producto\n",
    "\n",
    "\n",
    "Multi(35,27)"
   ]
  },
  {
   "cell_type": "code",
   "execution_count": 29,
   "metadata": {},
   "outputs": [
    {
     "name": "stdout",
     "output_type": "stream",
     "text": [
      "Noembre completo\n"
     ]
    }
   ],
   "source": [
    "#OJO, las funciones pueden llegar a no tener return, no es obligatorio\n",
    "def name():\n",
    "    print(\"Noembre completo\") \n",
    "\n",
    "name() #no se puede poner ningun valor, porque la funcion no tiene asignaciones, es una función que solo hace una cosa, imrpimir Nombre completo"
   ]
  },
  {
   "cell_type": "code",
   "execution_count": 30,
   "metadata": {},
   "outputs": [
    {
     "name": "stdout",
     "output_type": "stream",
     "text": [
      "None\n"
     ]
    }
   ],
   "source": [
    "#Para declarar una función que no haga nada, y que tenga bloque de codigo para que Python no lo vea como un error usamos la palabra pass, veamos el siguiente ejemplo\n",
    "def Nada():\n",
    "    pass\n",
    "print(Nada())"
   ]
  },
  {
   "cell_type": "code",
   "execution_count": 33,
   "metadata": {},
   "outputs": [],
   "source": [
    "#veamos una función que realice más de una tarea\n",
    "def dos_cosas(a):\n",
    "    b=a+1\n",
    "    print(a, \" Fue lo que ingresaste y dio: \",b ) #imprime esta parte como si fuese un return\n",
    "    return b #Pero también tiene su propio return"
   ]
  },
  {
   "cell_type": "code",
   "execution_count": 32,
   "metadata": {},
   "outputs": [
    {
     "name": "stdout",
     "output_type": "stream",
     "text": [
      "58  Fue lo que ingresaste y dio:  59\n"
     ]
    },
    {
     "data": {
      "text/plain": [
       "59"
      ]
     },
     "execution_count": 32,
     "metadata": {},
     "output_type": "execute_result"
    }
   ],
   "source": [
    "dos_cosas(58)"
   ]
  },
  {
   "cell_type": "markdown",
   "metadata": {},
   "source": [
    "<h3>Ciclos dentro de una función</h3>\n",
    "<p>Esto es re dificil hahahaha pero vamos con toda, mejor guardaré antes de que todo se vuelva horrible hahaha</p>\n"
   ]
  },
  {
   "cell_type": "code",
   "execution_count": 36,
   "metadata": {},
   "outputs": [
    {
     "name": "stdout",
     "output_type": "stream",
     "text": [
      "Album 0 Rating 10.8\n",
      "Album 1 Rating 8.5\n",
      "Album 2 Rating 9.5\n"
     ]
    }
   ],
   "source": [
    "def printStuff(Stuff): #Acá definimos la función que se llamará Stuff\n",
    "    for i,s in enumerate(Stuff):#Acá definimos un ciclo, que dice que i, sea la numeración, y que s sea el elmento de stuf\n",
    "        print(\"Album\", i, \"Rating\", s)#Esto es lo que debe imprimir la función siempre que se llame\n",
    "\n",
    "\n",
    "album_ratings=[10.8,8.5,9.5]\n",
    "printStuff(album_ratings)"
   ]
  },
  {
   "cell_type": "markdown",
   "metadata": {},
   "source": []
  },
  {
   "cell_type": "code",
   "execution_count": 37,
   "metadata": {},
   "outputs": [
    {
     "name": "stdout",
     "output_type": "stream",
     "text": [
      "MOTZAR\n",
      "RUPATRUPA\n",
      "CANCERBERO\n",
      "RONALDINHO\n",
      "MESSI\n"
     ]
    }
   ],
   "source": [
    "#Veamos otro ejemplo\n",
    "def artistas(*nombres):#SUPER IMPORTANTE AL PONERLE EL ASTERISCO A LA FUNCIÓN, PUEDO PONERLE MAS PARAMETROS Y ESTOS SE COMPORTARÁN COMO UNA TUPLA, Y EN ESTE CASO LOS IMPRIME TODOS\n",
    "    for nombre in nombres:\n",
    "        print(nombre)\n",
    "\n",
    "artistas(\"MOTZAR\", \"RUPATRUPA\", \"CANCERBERO\", \"RONALDINHO\", \"MESSI\")\n",
    "\n"
   ]
  },
  {
   "cell_type": "markdown",
   "metadata": {},
   "source": [
    "<h4>Cuando se define una variable dentro de una función nose puede modificar por fuera de ella, a esto se le llama alcance global, mientras que las variables que se definen fuera de una función son globales y se pueden usar y modificar, siempre que sea necesario<h4>"
   ]
  },
  {
   "cell_type": "code",
   "execution_count": 38,
   "metadata": {},
   "outputs": [
    {
     "data": {
      "text/plain": [
       "[1, 2, 3]"
      ]
     },
     "execution_count": 38,
     "metadata": {},
     "output_type": "execute_result"
    }
   ],
   "source": [
    "L=[1,3,2]\n",
    "sorted(L)"
   ]
  },
  {
   "cell_type": "code",
   "execution_count": null,
   "metadata": {},
   "outputs": [],
   "source": []
  }
 ],
 "metadata": {
  "interpreter": {
   "hash": "04fc3788c23b76e7690e4a8f94f97baaccd63f88ab3a053e1729aa9ad5b22ac6"
  },
  "kernelspec": {
   "display_name": "Python 3.10.9 ('base')",
   "language": "python",
   "name": "python3"
  },
  "language_info": {
   "codemirror_mode": {
    "name": "ipython",
    "version": 3
   },
   "file_extension": ".py",
   "mimetype": "text/x-python",
   "name": "python",
   "nbconvert_exporter": "python",
   "pygments_lexer": "ipython3",
   "version": "3.10.9"
  },
  "orig_nbformat": 4
 },
 "nbformat": 4,
 "nbformat_minor": 2
}
