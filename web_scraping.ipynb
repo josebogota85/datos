{
 "cells": [
  {
   "cell_type": "markdown",
   "metadata": {},
   "source": [
    "Voy a hacer web scraping, la ultima vez lo intente, pero no lo entendí bien, entonces lo vamos a hacer ahora si, bien, recuerden que el web scraping traduce como barrido o raspado, es decir vamos a raspar la información que necesitemos de la web"
   ]
  },
  {
   "cell_type": "code",
   "execution_count": 10,
   "metadata": {},
   "outputs": [],
   "source": [
    "#Lo primero para hacer web scraping es importar dos librerias, la primera request y la segunda Beatiful soup, una nos sirve para hacer reqerimientos HTTP y la otra nos sirve para interactua con el HTML de la página o XML\n",
    "from bs4 import BeautifulSoup"
   ]
  },
  {
   "cell_type": "code",
   "execution_count": 17,
   "metadata": {},
   "outputs": [
    {
     "name": "stdout",
     "output_type": "stream",
     "text": [
      "<!DOCTYPE html>\n",
      "<html>\n",
      " <head>\n",
      "  <title>\n",
      "   Page Title\n",
      "  </title>\n",
      " </head>\n",
      " <body>\n",
      "  <h3>\n",
      "   <b>\n",
      "    id='boldest'&gt;Lebron James\n",
      "   </b>\n",
      "  </h3>\n",
      "  <p>\n",
      "   Salary:$92000000\n",
      "  </p>\n",
      "  <h3>\n",
      "   Stephen Curry\n",
      "  </h3>\n",
      "  <p>\n",
      "   Salary:$85000000\n",
      "  </p>\n",
      "  <h3>\n",
      "   Kevin Durant\n",
      "  </h3>\n",
      "  <p>\n",
      "   Salary: $73200000\n",
      "  </p>\n",
      " </body>\n",
      "</html>\n",
      "<title>Page Title</title>\n"
     ]
    }
   ],
   "source": [
    "html=\"<!DOCTYPE html><html><head><title>Page Title</title></head><body><h3><b> id='boldest'>Lebron James</b></h3><p>Salary:$92000000 </p><h3>Stephen Curry</h3><p>Salary:$85000000</p><h3>Kevin Durant</h3><p>Salary: $73200000 </p></body></html>\"\n",
    "soup=BeautifulSoup(html,'lxml') #ojo que para usar esto necesitamos instalar la librearia pip install html5lib, para que funcione\n",
    "print(soup.prettify())\n",
    "# Definimos una variable llamada html que contiene un pedazo de código HTML\n",
    "#html=\"<!DOCTYPE html><html><head><title>Page Title</title></head><body><h3><b> id='boldest'>Lebron James</b></h3><p>Salary:$92000000 </p><h3>Stephen Curry</h3><p>Salary:$85000000</p><h3>Kevin Durant</h3><p>Salary: $73200000 </p></body></html>\"\n",
    "\n",
    "# Utilizamos BeautifulSoup para analizar el código HTML y generar un objeto BeautifulSoup\n",
    "# Aquí se está utilizando el analizador 'lxml'\n",
    "# Nota: Es necesario instalar el paquete 'lxml' si no se ha instalado previamente\n",
    "#soup = BeautifulSoup(html, 'lxml')\n",
    "\n",
    "# Imprimimos el objeto BeautifulSoup utilizando el método 'prettify()'\n",
    "# Esto dará como resultado una representación en formato legible del código HTML\n",
    "#print(soup. Prettify())\n"
   ]
  },
  {
   "cell_type": "code",
   "execution_count": 18,
   "metadata": {},
   "outputs": [
    {
     "name": "stdout",
     "output_type": "stream",
     "text": [
      "<title>Page Title</title>\n"
     ]
    }
   ],
   "source": [
    "tag_object=soup.title #Acá guardamos el título de la página y usamos la librería sopu para traerla\n",
    "print(tag_object) #Acá imprimimos el título de la página"
   ]
  },
  {
   "cell_type": "code",
   "execution_count": 20,
   "metadata": {},
   "outputs": [
    {
     "name": "stdout",
     "output_type": "stream",
     "text": [
      "<h3><b> id='boldest'&gt;Lebron James</b></h3>\n"
     ]
    }
   ],
   "source": [
    "tag_object=soup.h3 #Acá lo que hacemos es traer lo que tenemos en la etiqueta H3\n",
    "print(tag_object) #Acá mostramos lo que esta en la etiqueta H3"
   ]
  },
  {
   "cell_type": "code",
   "execution_count": 22,
   "metadata": {},
   "outputs": [
    {
     "data": {
      "text/plain": [
       "<b> id='boldest'&gt;Lebron James</b>"
      ]
     },
     "execution_count": 22,
     "metadata": {},
     "output_type": "execute_result"
    }
   ],
   "source": [
    "tag_child=tag_object.b #En este caso solo traje la parte que tiene la etiqueta <b>\n",
    "tag_child #Acá la muestro"
   ]
  },
  {
   "cell_type": "code",
   "execution_count": 24,
   "metadata": {},
   "outputs": [
    {
     "data": {
      "text/plain": [
       "<p>Salary:$92000000 </p>"
      ]
     },
     "execution_count": 24,
     "metadata": {},
     "output_type": "execute_result"
    }
   ],
   "source": [
    "sibling_1=tag_object.nextSibling #Acá obtenemos el hermano que esta en el mismo nivel de tag_object y lo guardamos en la variable sibling_1\n",
    "sibling_1"
   ]
  },
  {
   "cell_type": "code",
   "execution_count": 25,
   "metadata": {},
   "outputs": [
    {
     "data": {
      "text/plain": [
       "<h3>Stephen Curry</h3>"
      ]
     },
     "execution_count": 25,
     "metadata": {},
     "output_type": "execute_result"
    }
   ],
   "source": [
    "sibling_2=sibling_1.nextSibling #Acá obtenemos el hermano que esta en el mismo nivel de tag_object y lo guardamos en la variable sibling_1\n",
    "sibling_2"
   ]
  },
  {
   "cell_type": "code",
   "execution_count": 33,
   "metadata": {},
   "outputs": [
    {
     "data": {
      "text/plain": [
       "\" id='boldest'>Lebron James\""
      ]
     },
     "execution_count": 33,
     "metadata": {},
     "output_type": "execute_result"
    }
   ],
   "source": [
    "#También se puede acceder a una pareja de valores generamdp im diccionario\n",
    "tag_child.attrs #Esta propiedad noss ayuda a obtener un diciionario de todos los atributos de duna etiqueta html, usando clave y valor\n",
    "tag_child.string #Lo que hace es mostrarnos el diccionario de manera de string"
   ]
  },
  {
   "cell_type": "code",
   "execution_count": 35,
   "metadata": {},
   "outputs": [],
   "source": [
    "html=\"<table><thead><tr><th>Pizza Place</th><th>Orders</th><th>Slices</th></tr></thead><tbody><tr><td>Dominos Pizza</td><td>10</td><td>100</td></tr><tr><td>Little Caesars</td><td>12</td><td>144</td></tr></tbody></table>\"\n",
    "table=BeautifulSoup(html,'lxml')"
   ]
  },
  {
   "cell_type": "code",
   "execution_count": 38,
   "metadata": {},
   "outputs": [
    {
     "data": {
      "text/plain": [
       "[<tr><th>Pizza Place</th><th>Orders</th><th>Slices</th></tr>,\n",
       " <tr><td>Dominos Pizza</td><td>10</td><td>100</td></tr>,\n",
       " <tr><td>Little Caesars</td><td>12</td><td>144</td></tr>]"
      ]
     },
     "execution_count": 38,
     "metadata": {},
     "output_type": "execute_result"
    }
   ],
   "source": [
    "table_row=table.find_all(name='tr') #Acá lo que le solicitamos es que me envie toda la información que este en las etiquetas tr, es decir todos los registros, me trae la información en un formato de lista\n",
    "table_row #Ojo que me incluye los encabezados"
   ]
  },
  {
   "cell_type": "code",
   "execution_count": 39,
   "metadata": {},
   "outputs": [
    {
     "name": "stdout",
     "output_type": "stream",
     "text": [
      "Row 0\n",
      "Row 1\n",
      "column 0 cell <td>Dominos Pizza</td>\n",
      "column 1 cell <td>10</td>\n",
      "column 2 cell <td>100</td>\n",
      "Row 2\n",
      "column 0 cell <td>Little Caesars</td>\n",
      "column 1 cell <td>12</td>\n",
      "column 2 cell <td>144</td>\n"
     ]
    }
   ],
   "source": [
    "for i, row in enumerate(table_row):\n",
    "    print(\"Row\", i)\n",
    "    cells=row.find_all(\"td\")\n",
    "    for j, cell in enumerate(cells):\n",
    "        print(\"column\", j, \"cell\", cell)"
   ]
  },
  {
   "cell_type": "code",
   "execution_count": null,
   "metadata": {},
   "outputs": [],
   "source": [
    "                           "
   ]
  }
 ],
 "metadata": {
  "interpreter": {
   "hash": "04fc3788c23b76e7690e4a8f94f97baaccd63f88ab3a053e1729aa9ad5b22ac6"
  },
  "kernelspec": {
   "display_name": "Python 3.10.9 ('base')",
   "language": "python",
   "name": "python3"
  },
  "language_info": {
   "codemirror_mode": {
    "name": "ipython",
    "version": 3
   },
   "file_extension": ".py",
   "mimetype": "text/x-python",
   "name": "python",
   "nbconvert_exporter": "python",
   "pygments_lexer": "ipython3",
   "version": "3.10.9"
  },
  "orig_nbformat": 4
 },
 "nbformat": 4,
 "nbformat_minor": 2
}
