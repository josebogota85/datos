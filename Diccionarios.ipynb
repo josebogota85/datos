{
 "cells": [
  {
   "cell_type": "markdown",
   "metadata": {},
   "source": [
    "<h3>Diccionarios</h3>"
   ]
  },
  {
   "cell_type": "markdown",
   "metadata": {},
   "source": [
    "Los diccionarios en python son arreglos de datos que tienen una clave y esa clave tiene un valor, como los indices de las listas y las tuplas, solo que en este caso no tienen que ser números las claves pueden ser también palabras, para declarar un diccionario se usan llaves {}, primero se definene las llaves, estas deben ser inmutables y unicas, después van dos puntos, y luego el valor asignado, miremos el ejemplo:"
   ]
  },
  {
   "cell_type": "code",
   "execution_count": 1,
   "metadata": {},
   "outputs": [
    {
     "data": {
      "text/plain": [
       "{'llave_1': 1,\n",
       " 'llave_2': '2',\n",
       " 'Llave_3': [3, 3, 3],\n",
       " 'llave_4': (4, 4, 4),\n",
       " 'llave_5': 5}"
      ]
     },
     "execution_count": 1,
     "metadata": {},
     "output_type": "execute_result"
    }
   ],
   "source": [
    "{\"llave_1\":1, \"llave_2\":\"2\", \"Llave_3\":[3,3,3], \"llave_4\":(4,4,4), (\"llave_5\"):5} #Los valores que se le dan a una llave puede ser de cualquier tipo, cada valor de llave y valor debe estar separado por una coma"
   ]
  },
  {
   "cell_type": "code",
   "execution_count": 15,
   "metadata": {},
   "outputs": [
    {
     "data": {
      "text/plain": [
       "'uno'"
      ]
     },
     "execution_count": 15,
     "metadata": {},
     "output_type": "execute_result"
    }
   ],
   "source": [
    "diccionario={\"one\":\"uno\", \"two\":\"dos\", \"three\":\"tres\", \"four\":\"cuatro\", \"five\":\"cinco\", \"six\":\"seis\", \"seven\":\"siete\", \"eigth\":\"ocho\"} #Acá declaramos un diccionario de numeros\n",
    "#y vamos a ver como podemos asignar el valor de un diccionario a una variable\n",
    "diccionario[\"one\"]#De esta manera podemos mostrar la información que hay en una llave en particular"
   ]
  },
  {
   "cell_type": "code",
   "execution_count": 17,
   "metadata": {},
   "outputs": [
    {
     "name": "stdout",
     "output_type": "stream",
     "text": [
      "{'one': 'uno', 'two': 'dos', 'three': 'tres', 'four': 'cuatro', 'five': 'cinco', 'six': 'seis', 'seven': 'siete', 'eigth': 'ocho', 'nine': 'nueve'}\n"
     ]
    }
   ],
   "source": [
    "#Para agregar un elemento a el diccionario, lo debo hacer de la siguiente manera\n",
    "diccionario[\"nine\"]=\"nueve\"\n",
    "print(diccionario)"
   ]
  },
  {
   "cell_type": "code",
   "execution_count": 24,
   "metadata": {},
   "outputs": [
    {
     "name": "stdout",
     "output_type": "stream",
     "text": [
      "{'three': 'tres', 'four': 'cuatro', 'five': 'cinco', 'six': 'seis', 'seven': 'siete', 'eigth': 'ocho', 'nine': 'nueve'}\n"
     ]
    }
   ],
   "source": [
    "#PAra eliminar una entrada del diccionario debemos usar la funcion del\n",
    "del(diccionario[\"two\"])\n",
    "print(diccionario)"
   ]
  },
  {
   "cell_type": "code",
   "execution_count": 28,
   "metadata": {},
   "outputs": [
    {
     "data": {
      "text/plain": [
       "True"
      ]
     },
     "execution_count": 28,
     "metadata": {},
     "output_type": "execute_result"
    }
   ],
   "source": [
    "#Para saber si un elemento se encuentra en el diccionario podemos usar in, me dará una salida TRue o False, según sea el caso\n",
    "\"three\" in diccionario"
   ]
  },
  {
   "cell_type": "code",
   "execution_count": 29,
   "metadata": {},
   "outputs": [
    {
     "data": {
      "text/plain": [
       "dict_keys(['three', 'four', 'five', 'six', 'seven', 'eigth', 'nine'])"
      ]
     },
     "execution_count": 29,
     "metadata": {},
     "output_type": "execute_result"
    }
   ],
   "source": [
    "#Para ver todas las llaves de un diccionario se usa el metodo .keys, ver el ejemplo\n",
    "diccionario.keys()"
   ]
  },
  {
   "cell_type": "code",
   "execution_count": 30,
   "metadata": {},
   "outputs": [
    {
     "data": {
      "text/plain": [
       "dict_values(['tres', 'cuatro', 'cinco', 'seis', 'siete', 'ocho', 'nueve'])"
      ]
     },
     "execution_count": 30,
     "metadata": {},
     "output_type": "execute_result"
    }
   ],
   "source": [
    "#PAra ver todos los elementos del diccionario se usa el metodo .values\n",
    "diccionario.values()"
   ]
  },
  {
   "cell_type": "code",
   "execution_count": null,
   "metadata": {},
   "outputs": [],
   "source": []
  }
 ],
 "metadata": {
  "interpreter": {
   "hash": "04fc3788c23b76e7690e4a8f94f97baaccd63f88ab3a053e1729aa9ad5b22ac6"
  },
  "kernelspec": {
   "display_name": "Python 3.10.9 ('base')",
   "language": "python",
   "name": "python3"
  },
  "language_info": {
   "codemirror_mode": {
    "name": "ipython",
    "version": 3
   },
   "file_extension": ".py",
   "mimetype": "text/x-python",
   "name": "python",
   "nbconvert_exporter": "python",
   "pygments_lexer": "ipython3",
   "version": "3.10.9"
  },
  "orig_nbformat": 4
 },
 "nbformat": 4,
 "nbformat_minor": 2
}
