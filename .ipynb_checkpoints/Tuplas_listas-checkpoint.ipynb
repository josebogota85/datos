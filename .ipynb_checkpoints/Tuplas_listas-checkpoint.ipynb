{
 "cells": [
  {
   "cell_type": "markdown",
   "id": "da9a3689",
   "metadata": {},
   "source": [
    "<h2>En este caso trabajaremos tuplas, estas son super importantes y hay que prestar mucha atención, las tuplas son un tipo de datos compuesto</h2>"
   ]
  },
  {
   "cell_type": "code",
   "execution_count": 1,
   "id": "7c0fa670",
   "metadata": {},
   "outputs": [
    {
     "name": "stdout",
     "output_type": "stream",
     "text": [
      "(10, 9, 8, 7, 6, 5, 4, 3, 2, 1, 0)\n"
     ]
    }
   ],
   "source": [
    "#LAS TUPLAS SON SECUENCIAS ORDENADAS DE DATOA, se ecpresan com parentesis y los datos se separan por comas\n",
    "rating=(10,9,8,7,6,5,4,3,2,1,0)\n",
    "print(rating)"
   ]
  },
  {
   "cell_type": "code",
   "execution_count": 2,
   "id": "3f45420e",
   "metadata": {},
   "outputs": [],
   "source": [
    "#Una tupla puede contener tipos de datos variados, int, str, float... Sin embargo, se guardata como tipo de dato tuple\n",
    "datos=(\"cedula\", \"80865042\", 37, \"masculino\")"
   ]
  },
  {
   "cell_type": "code",
   "execution_count": 3,
   "id": "abe6bdb5",
   "metadata": {},
   "outputs": [
    {
     "name": "stdout",
     "output_type": "stream",
     "text": [
      "<class 'tuple'>\n"
     ]
    }
   ],
   "source": [
    "print(type(datos))#Acá vemos como los tipos de dato dentro de los parentesis los toma con formato tuple"
   ]
  },
  {
   "cell_type": "code",
   "execution_count": 4,
   "id": "b4235840",
   "metadata": {},
   "outputs": [
    {
     "data": {
      "text/plain": [
       "'cedula'"
      ]
     },
     "execution_count": 4,
     "metadata": {},
     "output_type": "execute_result"
    }
   ],
   "source": [
    "#Puedo acceder a los elementos de la tupla usando, un indice, de izquierda a derecha comienza con 0 y de derecha a izquierda comienza con -1\n",
    "datos[0]# este dee llamar el elmento de izquiera a derecha"
   ]
  },
  {
   "cell_type": "code",
   "execution_count": 5,
   "id": "ecaa20e9",
   "metadata": {},
   "outputs": [
    {
     "data": {
      "text/plain": [
       "'80865042'"
      ]
     },
     "execution_count": 5,
     "metadata": {},
     "output_type": "execute_result"
    }
   ],
   "source": [
    "datos[1]#Debe traerme la cédula"
   ]
  },
  {
   "cell_type": "code",
   "execution_count": 6,
   "id": "8bf7bc43",
   "metadata": {},
   "outputs": [
    {
     "data": {
      "text/plain": [
       "37"
      ]
     },
     "execution_count": 6,
     "metadata": {},
     "output_type": "execute_result"
    }
   ],
   "source": [
    "datos[2]# Debe traerme la edad"
   ]
  },
  {
   "cell_type": "code",
   "execution_count": 7,
   "id": "af3de77e",
   "metadata": {},
   "outputs": [
    {
     "data": {
      "text/plain": [
       "'masculino'"
      ]
     },
     "execution_count": 7,
     "metadata": {},
     "output_type": "execute_result"
    }
   ],
   "source": [
    "datos[3]# Debe traerme el genero"
   ]
  },
  {
   "cell_type": "code",
   "execution_count": 11,
   "id": "3a153759",
   "metadata": {},
   "outputs": [],
   "source": [
    "#Podemos adicionarle elementos a la tupla, o agrandandola, de la siguiente manera\n",
    "datos_completos=datos+(\"famisanar\", 3,500.000)"
   ]
  },
  {
   "cell_type": "code",
   "execution_count": 12,
   "id": "f0c3799d",
   "metadata": {},
   "outputs": [
    {
     "name": "stdout",
     "output_type": "stream",
     "text": [
      "('cedula', '80865042', 37, 'masculino', 'famisanar', 3, 500.0)\n"
     ]
    }
   ],
   "source": [
    "print(datos_completos)"
   ]
  },
  {
   "cell_type": "code",
   "execution_count": 15,
   "id": "83b785cc",
   "metadata": {},
   "outputs": [
    {
     "data": {
      "text/plain": [
       "('cedula', '80865042', 37)"
      ]
     },
     "execution_count": 15,
     "metadata": {},
     "output_type": "execute_result"
    }
   ],
   "source": [
    "#si quiero llamar ciertos elementos de las tuplas (no solo uno), puedo cortarla usando indices\n",
    "datos_completos[0:3]"
   ]
  },
  {
   "cell_type": "code",
   "execution_count": 16,
   "id": "d58777f4",
   "metadata": {},
   "outputs": [
    {
     "data": {
      "text/plain": [
       "(2, 3, 4)"
      ]
     },
     "execution_count": 16,
     "metadata": {},
     "output_type": "execute_result"
    }
   ],
   "source": [
    "tupla1=(1,2,3,4,5)\n",
    "tupla1[1:4]# hay que tener claro que cuando llamo los indices estos no se muestran."
   ]
  },
  {
   "cell_type": "code",
   "execution_count": null,
   "id": "0ec59e10",
   "metadata": {},
   "outputs": [],
   "source": []
  }
 ],
 "metadata": {
  "kernelspec": {
   "display_name": "Python 3 (ipykernel)",
   "language": "python",
   "name": "python3"
  },
  "language_info": {
   "codemirror_mode": {
    "name": "ipython",
    "version": 3
   },
   "file_extension": ".py",
   "mimetype": "text/x-python",
   "name": "python",
   "nbconvert_exporter": "python",
   "pygments_lexer": "ipython3",
   "version": "3.10.9"
  }
 },
 "nbformat": 4,
 "nbformat_minor": 5
}
