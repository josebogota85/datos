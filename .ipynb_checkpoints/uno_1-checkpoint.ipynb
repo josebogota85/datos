{
 "cells": [
  {
   "cell_type": "markdown",
   "id": "f1890e4e",
   "metadata": {},
   "source": [
    "Bueno es super importante saber algunas cosas sobre las cadenas sobre todo el simbolo de scape que es una barra invertida \\, ver los siguientes ejemplos"
   ]
  },
  {
   "cell_type": "code",
   "execution_count": 2,
   "id": "f92eedb1",
   "metadata": {},
   "outputs": [
    {
     "name": "stdout",
     "output_type": "stream",
     "text": [
      " Jose \n",
      " Luis \n",
      " Rincon \n",
      " Ortiz\n"
     ]
    }
   ],
   "source": [
    "print(\" Jose \\n Luis \\n Rincon \\n Ortiz\")\n",
    "#DE esta manera puedo hacer una nueva linea \\n\n"
   ]
  },
  {
   "cell_type": "code",
   "execution_count": 4,
   "id": "8f016a48",
   "metadata": {},
   "outputs": [
    {
     "name": "stdout",
     "output_type": "stream",
     "text": [
      "Jose \n",
      "\t Luis \n",
      "\t\t Rincon \n",
      "\t\t\t Ortiz\n"
     ]
    }
   ],
   "source": [
    "print(\"Jose \\n\\t Luis \\n\\t\\t Rincon \\n\\t\\t\\t Ortiz\")\n",
    "#De esta manera puedo insertar un TAB \\t"
   ]
  },
  {
   "cell_type": "code",
   "execution_count": 5,
   "id": "66f94909",
   "metadata": {},
   "outputs": [
    {
     "name": "stdout",
     "output_type": "stream",
     "text": [
      "Jose Luis \\ Rincon Ortiz\n"
     ]
    }
   ],
   "source": [
    "print(\"Jose Luis \\\\ Rincon Ortiz\")\n",
    "#De esta manera puedo insertar un backslash en un texto \\\\"
   ]
  },
  {
   "cell_type": "markdown",
   "id": "ea048f49",
   "metadata": {},
   "source": [
    "Metodos para cadenas, Existen metodos que sirven para cadenas y tuplas, y hay algunos que solo sirven para cadenas, las cadenas son diferentes antes y después de los metodos"
   ]
  },
  {
   "cell_type": "code",
   "execution_count": 9,
   "id": "7b894fc0",
   "metadata": {},
   "outputs": [
    {
     "name": "stdout",
     "output_type": "stream",
     "text": [
      "JOSE LUIS RINCON ORTIZ\n"
     ]
    }
   ],
   "source": [
    "name=\"jose luis rincon ortiz\"\n",
    "name_mayusculas = name.upper()\n",
    "print(name_mayusculas)\n",
    "#De esta manera se pueden convertir las letras de una cadena\n"
   ]
  },
  {
   "cell_type": "code",
   "execution_count": 14,
   "id": "04320ef6",
   "metadata": {},
   "outputs": [
    {
     "name": "stdout",
     "output_type": "stream",
     "text": [
      "Luis Luis Rincon Ortiz\n"
     ]
    }
   ],
   "source": [
    "name=\"Jose Luis Rincon Ortiz\"\n",
    "name_cambiado = name.replace(\"Jose\",\"Luis\")#El primer argumento es el que quiero cambiar, el segundo el es cambio\n",
    "print(name_cambiado)"
   ]
  },
  {
   "cell_type": "code",
   "execution_count": 18,
   "id": "a06aabb1",
   "metadata": {},
   "outputs": [
    {
     "name": "stdout",
     "output_type": "stream",
     "text": [
      "5\n"
     ]
    }
   ],
   "source": [
    "name=\"Luis Armando Rincon\"\n",
    "name_search= name.find(\"Ar\")#Este metodo lo que hace es buscar en la cadena lo que sea igual y regresa el indice de la cadena en donde se encuentra el segmento de texto\n",
    "print(name_search)#Si el segmento de texto no se encuentra en la cadena, la salida va a ser -1"
   ]
  },
  {
   "cell_type": "code",
   "execution_count": 1,
   "id": "11bf40ea",
   "metadata": {},
   "outputs": [
    {
     "name": "stdout",
     "output_type": "stream",
     "text": [
      "<class 'float'>\n"
     ]
    }
   ],
   "source": [
    "x=1/1\n",
    "print(type(x))"
   ]
  },
  {
   "cell_type": "code",
   "execution_count": null,
   "id": "1a3697ea",
   "metadata": {},
   "outputs": [],
   "source": []
  }
 ],
 "metadata": {
  "kernelspec": {
   "display_name": "Python 3 (ipykernel)",
   "language": "python",
   "name": "python3"
  },
  "language_info": {
   "codemirror_mode": {
    "name": "ipython",
    "version": 3
   },
   "file_extension": ".py",
   "mimetype": "text/x-python",
   "name": "python",
   "nbconvert_exporter": "python",
   "pygments_lexer": "ipython3",
   "version": "3.10.9"
  }
 },
 "nbformat": 4,
 "nbformat_minor": 5
}
