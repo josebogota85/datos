{
 "cells": [
  {
   "cell_type": "markdown",
   "id": "6a46498a",
   "metadata": {},
   "source": [
    "Bueno es super importante saber algunas cosas sobre las cadenas sobre todo el simbolo de scape que es una barra invertida \\, ver los siguientes ejemplos"
   ]
  },
  {
   "cell_type": "code",
   "execution_count": 2,
   "id": "d28c798e",
   "metadata": {},
   "outputs": [
    {
     "name": "stdout",
     "output_type": "stream",
     "text": [
      " Jose \n",
      " Luis \n",
      " Rincon \n",
      " Ortiz\n"
     ]
    }
   ],
   "source": [
    "print(\" Jose \\n Luis \\n Rincon \\n Ortiz\")\n",
    "#DE esta manera puedo hacer una nueva linea \\n\n"
   ]
  },
  {
   "cell_type": "code",
   "execution_count": 4,
   "id": "01f7efc7",
   "metadata": {},
   "outputs": [
    {
     "name": "stdout",
     "output_type": "stream",
     "text": [
      "Jose \n",
      "\t Luis \n",
      "\t\t Rincon \n",
      "\t\t\t Ortiz\n"
     ]
    }
   ],
   "source": [
    "print(\"Jose \\n\\t Luis \\n\\t\\t Rincon \\n\\t\\t\\t Ortiz\")\n",
    "#De esta manera puedo insertar un TAB \\t"
   ]
  },
  {
   "cell_type": "code",
   "execution_count": 5,
   "id": "dd4383ca",
   "metadata": {},
   "outputs": [
    {
     "name": "stdout",
     "output_type": "stream",
     "text": [
      "Jose Luis \\ Rincon Ortiz\n"
     ]
    }
   ],
   "source": [
    "print(\"Jose Luis \\\\ Rincon Ortiz\")\n",
    "#De esta manera puedo insertar un backslash en un texto \\\\"
   ]
  },
  {
   "cell_type": "markdown",
   "id": "4a507b9a",
   "metadata": {},
   "source": [
    "Metodos para cadenas, Existen metodos que sirven para cadenas y tuplas, y hay algunos que solo sirven para cadenas, las cadenas son diferentes antes y después de los metodos"
   ]
  },
  {
   "cell_type": "code",
   "execution_count": 9,
   "id": "283a1175",
   "metadata": {},
   "outputs": [
    {
     "name": "stdout",
     "output_type": "stream",
     "text": [
      "JOSE LUIS RINCON ORTIZ\n"
     ]
    }
   ],
   "source": [
    "name=\"jose luis rincon ortiz\"\n",
    "name_mayusculas = name.upper()\n",
    "print(name_mayusculas)\n",
    "#De esta manera se pueden convertir las letras de una cadena\n"
   ]
  },
  {
   "cell_type": "code",
   "execution_count": 14,
   "id": "9aee6fe3",
   "metadata": {},
   "outputs": [
    {
     "name": "stdout",
     "output_type": "stream",
     "text": [
      "Luis Luis Rincon Ortiz\n"
     ]
    }
   ],
   "source": [
    "name=\"Jose Luis Rincon Ortiz\"\n",
    "name_cambiado = name.replace(\"Jose\",\"Luis\")#El primer argumento es el que quiero cambiar, el segundo el es cambio\n",
    "print(name_cambiado)"
   ]
  },
  {
   "cell_type": "code",
   "execution_count": null,
   "id": "cf6b33e9",
   "metadata": {},
   "outputs": [],
   "source": []
  }
 ],
 "metadata": {
  "kernelspec": {
   "display_name": "Python 3 (ipykernel)",
   "language": "python",
   "name": "python3"
  },
  "language_info": {
   "codemirror_mode": {
    "name": "ipython",
    "version": 3
   },
   "file_extension": ".py",
   "mimetype": "text/x-python",
   "name": "python",
   "nbconvert_exporter": "python",
   "pygments_lexer": "ipython3",
   "version": "3.10.9"
  }
 },
 "nbformat": 4,
 "nbformat_minor": 5
}
